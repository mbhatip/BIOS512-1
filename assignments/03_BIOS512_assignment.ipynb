{
 "cells": [
  {
   "cell_type": "markdown",
   "id": "e9216b63-c18a-4c9b-beff-4b6b2e1b6964",
   "metadata": {},
   "source": [
    "# BIOS512 Assignment #3"
   ]
  },
  {
   "cell_type": "markdown",
   "id": "4403015e-d27f-473c-8720-088ac6db57c9",
   "metadata": {},
   "source": [
    "Import the 📈Tidyverse into your `R` session"
   ]
  },
  {
   "cell_type": "code",
   "execution_count": 31,
   "id": "2cb997c6-b57c-4198-aa5c-8be897467c7c",
   "metadata": {},
   "outputs": [
    {
     "name": "stderr",
     "output_type": "stream",
     "text": [
      "\n",
      "Attaching package: ‘scales’\n",
      "\n",
      "\n",
      "The following object is masked from ‘package:purrr’:\n",
      "\n",
      "    discard\n",
      "\n",
      "\n",
      "The following object is masked from ‘package:readr’:\n",
      "\n",
      "    col_factor\n",
      "\n",
      "\n"
     ]
    }
   ],
   "source": [
    "library('tidyverse')\n",
    "library('scales')"
   ]
  },
  {
   "cell_type": "markdown",
   "id": "47ccf7f6-01c6-46b4-94a1-f8dcd8ef8377",
   "metadata": {},
   "source": [
    "In this assignment we'll be using data from the [TidyTuesday Project](https://github.com/rfordatascience/tidytuesday). Specifically, we'll investigate vaccination rates at US schools. A `CSV` file of the data is located at:  \n",
    "\n",
    "[https://github.com/rfordatascience/tidytuesday/blob/master/data/2020/2020-02-25/measles.csv](https://github.com/rfordatascience/tidytuesday/blob/master/data/2020/2020-02-25/measles.csv)\n",
    "\n",
    "Get the \"raw\" data URL and import it into your `R` session using `read_csv`. Remember to capture the data under a variable name of your choosing!"
   ]
  },
  {
   "cell_type": "code",
   "execution_count": 6,
   "id": "8de37571-29da-4393-b1eb-ca13fcd70fed",
   "metadata": {},
   "outputs": [
    {
     "data": {
      "text/html": [
       "<table class=\"dataframe\">\n",
       "<caption>A tibble: 6 × 16</caption>\n",
       "<thead>\n",
       "\t<tr><th scope=col>index</th><th scope=col>state</th><th scope=col>year</th><th scope=col>name</th><th scope=col>type</th><th scope=col>city</th><th scope=col>county</th><th scope=col>district</th><th scope=col>enroll</th><th scope=col>mmr</th><th scope=col>overall</th><th scope=col>xrel</th><th scope=col>xmed</th><th scope=col>xper</th><th scope=col>lat</th><th scope=col>lng</th></tr>\n",
       "\t<tr><th scope=col>&lt;dbl&gt;</th><th scope=col>&lt;chr&gt;</th><th scope=col>&lt;chr&gt;</th><th scope=col>&lt;chr&gt;</th><th scope=col>&lt;chr&gt;</th><th scope=col>&lt;chr&gt;</th><th scope=col>&lt;chr&gt;</th><th scope=col>&lt;lgl&gt;</th><th scope=col>&lt;dbl&gt;</th><th scope=col>&lt;dbl&gt;</th><th scope=col>&lt;dbl&gt;</th><th scope=col>&lt;lgl&gt;</th><th scope=col>&lt;dbl&gt;</th><th scope=col>&lt;dbl&gt;</th><th scope=col>&lt;dbl&gt;</th><th scope=col>&lt;dbl&gt;</th></tr>\n",
       "</thead>\n",
       "<tbody>\n",
       "\t<tr><td>1</td><td>Arizona</td><td>2018-19</td><td>A J Mitchell Elementary                 </td><td>Public </td><td>Nogales</td><td>Santa Cruz</td><td>NA</td><td>51</td><td>100</td><td>-1</td><td>NA</td><td>  NA</td><td>  NA</td><td>31.34782</td><td>-110.9380</td></tr>\n",
       "\t<tr><td>2</td><td>Arizona</td><td>2018-19</td><td>Academy Del Sol                         </td><td>Charter</td><td>Tucson </td><td>Pima      </td><td>NA</td><td>22</td><td>100</td><td>-1</td><td>NA</td><td>  NA</td><td>  NA</td><td>32.22192</td><td>-110.8961</td></tr>\n",
       "\t<tr><td>3</td><td>Arizona</td><td>2018-19</td><td>Academy Del Sol - Hope                  </td><td>Charter</td><td>Tucson </td><td>Pima      </td><td>NA</td><td>85</td><td>100</td><td>-1</td><td>NA</td><td>  NA</td><td>  NA</td><td>32.13049</td><td>-111.1170</td></tr>\n",
       "\t<tr><td>4</td><td>Arizona</td><td>2018-19</td><td>Academy Of Mathematics And Science South</td><td>Charter</td><td>Phoenix</td><td>Maricopa  </td><td>NA</td><td>60</td><td>100</td><td>-1</td><td>NA</td><td>  NA</td><td>  NA</td><td>33.48545</td><td>-112.1306</td></tr>\n",
       "\t<tr><td>5</td><td>Arizona</td><td>2018-19</td><td>Acclaim Academy                         </td><td>Charter</td><td>Phoenix</td><td>Maricopa  </td><td>NA</td><td>43</td><td>100</td><td>-1</td><td>NA</td><td>2.33</td><td>2.33</td><td>33.49562</td><td>-112.2247</td></tr>\n",
       "\t<tr><td>6</td><td>Arizona</td><td>2018-19</td><td>Alfred F Garcia                         </td><td>Public </td><td>Phoenix</td><td>Maricopa  </td><td>NA</td><td>36</td><td>100</td><td>-1</td><td>NA</td><td>  NA</td><td>  NA</td><td>33.43532</td><td>-112.1168</td></tr>\n",
       "</tbody>\n",
       "</table>\n"
      ],
      "text/latex": [
       "A tibble: 6 × 16\n",
       "\\begin{tabular}{llllllllllllllll}\n",
       " index & state & year & name & type & city & county & district & enroll & mmr & overall & xrel & xmed & xper & lat & lng\\\\\n",
       " <dbl> & <chr> & <chr> & <chr> & <chr> & <chr> & <chr> & <lgl> & <dbl> & <dbl> & <dbl> & <lgl> & <dbl> & <dbl> & <dbl> & <dbl>\\\\\n",
       "\\hline\n",
       "\t 1 & Arizona & 2018-19 & A J Mitchell Elementary                  & Public  & Nogales & Santa Cruz & NA & 51 & 100 & -1 & NA &   NA &   NA & 31.34782 & -110.9380\\\\\n",
       "\t 2 & Arizona & 2018-19 & Academy Del Sol                          & Charter & Tucson  & Pima       & NA & 22 & 100 & -1 & NA &   NA &   NA & 32.22192 & -110.8961\\\\\n",
       "\t 3 & Arizona & 2018-19 & Academy Del Sol - Hope                   & Charter & Tucson  & Pima       & NA & 85 & 100 & -1 & NA &   NA &   NA & 32.13049 & -111.1170\\\\\n",
       "\t 4 & Arizona & 2018-19 & Academy Of Mathematics And Science South & Charter & Phoenix & Maricopa   & NA & 60 & 100 & -1 & NA &   NA &   NA & 33.48545 & -112.1306\\\\\n",
       "\t 5 & Arizona & 2018-19 & Acclaim Academy                          & Charter & Phoenix & Maricopa   & NA & 43 & 100 & -1 & NA & 2.33 & 2.33 & 33.49562 & -112.2247\\\\\n",
       "\t 6 & Arizona & 2018-19 & Alfred F Garcia                          & Public  & Phoenix & Maricopa   & NA & 36 & 100 & -1 & NA &   NA &   NA & 33.43532 & -112.1168\\\\\n",
       "\\end{tabular}\n"
      ],
      "text/markdown": [
       "\n",
       "A tibble: 6 × 16\n",
       "\n",
       "| index &lt;dbl&gt; | state &lt;chr&gt; | year &lt;chr&gt; | name &lt;chr&gt; | type &lt;chr&gt; | city &lt;chr&gt; | county &lt;chr&gt; | district &lt;lgl&gt; | enroll &lt;dbl&gt; | mmr &lt;dbl&gt; | overall &lt;dbl&gt; | xrel &lt;lgl&gt; | xmed &lt;dbl&gt; | xper &lt;dbl&gt; | lat &lt;dbl&gt; | lng &lt;dbl&gt; |\n",
       "|---|---|---|---|---|---|---|---|---|---|---|---|---|---|---|---|\n",
       "| 1 | Arizona | 2018-19 | A J Mitchell Elementary                  | Public  | Nogales | Santa Cruz | NA | 51 | 100 | -1 | NA |   NA |   NA | 31.34782 | -110.9380 |\n",
       "| 2 | Arizona | 2018-19 | Academy Del Sol                          | Charter | Tucson  | Pima       | NA | 22 | 100 | -1 | NA |   NA |   NA | 32.22192 | -110.8961 |\n",
       "| 3 | Arizona | 2018-19 | Academy Del Sol - Hope                   | Charter | Tucson  | Pima       | NA | 85 | 100 | -1 | NA |   NA |   NA | 32.13049 | -111.1170 |\n",
       "| 4 | Arizona | 2018-19 | Academy Of Mathematics And Science South | Charter | Phoenix | Maricopa   | NA | 60 | 100 | -1 | NA |   NA |   NA | 33.48545 | -112.1306 |\n",
       "| 5 | Arizona | 2018-19 | Acclaim Academy                          | Charter | Phoenix | Maricopa   | NA | 43 | 100 | -1 | NA | 2.33 | 2.33 | 33.49562 | -112.2247 |\n",
       "| 6 | Arizona | 2018-19 | Alfred F Garcia                          | Public  | Phoenix | Maricopa   | NA | 36 | 100 | -1 | NA |   NA |   NA | 33.43532 | -112.1168 |\n",
       "\n"
      ],
      "text/plain": [
       "  index state   year    name                                     type   \n",
       "1 1     Arizona 2018-19 A J Mitchell Elementary                  Public \n",
       "2 2     Arizona 2018-19 Academy Del Sol                          Charter\n",
       "3 3     Arizona 2018-19 Academy Del Sol - Hope                   Charter\n",
       "4 4     Arizona 2018-19 Academy Of Mathematics And Science South Charter\n",
       "5 5     Arizona 2018-19 Acclaim Academy                          Charter\n",
       "6 6     Arizona 2018-19 Alfred F Garcia                          Public \n",
       "  city    county     district enroll mmr overall xrel xmed xper lat     \n",
       "1 Nogales Santa Cruz NA       51     100 -1      NA     NA   NA 31.34782\n",
       "2 Tucson  Pima       NA       22     100 -1      NA     NA   NA 32.22192\n",
       "3 Tucson  Pima       NA       85     100 -1      NA     NA   NA 32.13049\n",
       "4 Phoenix Maricopa   NA       60     100 -1      NA     NA   NA 33.48545\n",
       "5 Phoenix Maricopa   NA       43     100 -1      NA   2.33 2.33 33.49562\n",
       "6 Phoenix Maricopa   NA       36     100 -1      NA     NA   NA 33.43532\n",
       "  lng      \n",
       "1 -110.9380\n",
       "2 -110.8961\n",
       "3 -111.1170\n",
       "4 -112.1306\n",
       "5 -112.2247\n",
       "6 -112.1168"
      ]
     },
     "metadata": {},
     "output_type": "display_data"
    }
   ],
   "source": [
    "vacc = read_csv(\"https://raw.githubusercontent.com/rfordatascience/tidytuesday/master/data/2020/2020-02-25/measles.csv\", col_types = cols())\n",
    "\n",
    "vacc %>% head"
   ]
  },
  {
   "cell_type": "markdown",
   "id": "feb89cec-8cda-457d-95cf-89dbfa932ab4",
   "metadata": {},
   "source": [
    "The `mmr` column has holds 🤒 measles, mumps, rubella 🤒 vaccination rates for students in each respective school. **If the `mmr` value is not available for a school the `mmr` value is set to -1 in this data set.** \n",
    "\n",
    "The target `mmr` vaccination rate as [recommended by the CDC](https://www.cdc.gov/mmwr/preview/mmwrhtml/mm5632a3.htm) for schools is 95%. \n",
    "\n",
    "**Calculate the fraction of schools per state that have vaccination rates greater than the CDC 95%. Capture the output as a table called `df_vacc_rates`.**\n",
    "\n",
    "You'll need to do use `filter`, `group_by`, and `summarize`. \n",
    "\n",
    "I.e.\n",
    "1. Filter out schools that don't report `mmr` vaccination rate (keep schools where `mmr >= 0`).\n",
    "1. Group the data by `state`.\n",
    "1. Summarize fracion of vaccination rates above 95%.\n",
    "\n",
    "💡Remember `n()` stands for the number or records in a group. Also, `sum(mmr >= 95, na.rm=TRUE)` will count the number of values above or equal to 95.💡"
   ]
  },
  {
   "cell_type": "code",
   "execution_count": 16,
   "id": "0ba9a861-00fc-4392-a67d-cddbd5a994e0",
   "metadata": {},
   "outputs": [
    {
     "data": {
      "text/html": [
       "<table class=\"dataframe\">\n",
       "<caption>A tibble: 6 × 3</caption>\n",
       "<thead>\n",
       "\t<tr><th scope=col>state</th><th scope=col>n_above_95</th><th scope=col>frac_above_95</th></tr>\n",
       "\t<tr><th scope=col>&lt;chr&gt;</th><th scope=col>&lt;int&gt;</th><th scope=col>&lt;dbl&gt;</th></tr>\n",
       "</thead>\n",
       "<tbody>\n",
       "\t<tr><td>Arizona    </td><td>  593</td><td>0.506404782</td></tr>\n",
       "\t<tr><td>Arkansas   </td><td>    2</td><td>0.003527337</td></tr>\n",
       "\t<tr><td>California </td><td>12639</td><td>0.888506151</td></tr>\n",
       "\t<tr><td>Colorado   </td><td>  939</td><td>0.623092236</td></tr>\n",
       "\t<tr><td>Connecticut</td><td>  478</td><td>0.811544992</td></tr>\n",
       "\t<tr><td>Illinois   </td><td> 6893</td><td>0.896825397</td></tr>\n",
       "</tbody>\n",
       "</table>\n"
      ],
      "text/latex": [
       "A tibble: 6 × 3\n",
       "\\begin{tabular}{lll}\n",
       " state & n\\_above\\_95 & frac\\_above\\_95\\\\\n",
       " <chr> & <int> & <dbl>\\\\\n",
       "\\hline\n",
       "\t Arizona     &   593 & 0.506404782\\\\\n",
       "\t Arkansas    &     2 & 0.003527337\\\\\n",
       "\t California  & 12639 & 0.888506151\\\\\n",
       "\t Colorado    &   939 & 0.623092236\\\\\n",
       "\t Connecticut &   478 & 0.811544992\\\\\n",
       "\t Illinois    &  6893 & 0.896825397\\\\\n",
       "\\end{tabular}\n"
      ],
      "text/markdown": [
       "\n",
       "A tibble: 6 × 3\n",
       "\n",
       "| state &lt;chr&gt; | n_above_95 &lt;int&gt; | frac_above_95 &lt;dbl&gt; |\n",
       "|---|---|---|\n",
       "| Arizona     |   593 | 0.506404782 |\n",
       "| Arkansas    |     2 | 0.003527337 |\n",
       "| California  | 12639 | 0.888506151 |\n",
       "| Colorado    |   939 | 0.623092236 |\n",
       "| Connecticut |   478 | 0.811544992 |\n",
       "| Illinois    |  6893 | 0.896825397 |\n",
       "\n"
      ],
      "text/plain": [
       "  state       n_above_95 frac_above_95\n",
       "1 Arizona       593      0.506404782  \n",
       "2 Arkansas        2      0.003527337  \n",
       "3 California  12639      0.888506151  \n",
       "4 Colorado      939      0.623092236  \n",
       "5 Connecticut   478      0.811544992  \n",
       "6 Illinois     6893      0.896825397  "
      ]
     },
     "metadata": {},
     "output_type": "display_data"
    }
   ],
   "source": [
    "# create the df_vacc_rates here\n",
    "df_vacc_rates = vacc %>%\n",
    "    filter(mmr >= 0) %>%\n",
    "    group_by(state) %>%\n",
    "    summarize(\n",
    "        n_above_95 = sum(mmr >= 95, na.rm = TRUE),\n",
    "        frac_above_95 = n_above_95/n()\n",
    "    )\n",
    "\n",
    "df_vacc_rates %>% head\n"
   ]
  },
  {
   "cell_type": "markdown",
   "id": "900ddf7f-d801-4a70-9453-73bdd3277344",
   "metadata": {},
   "source": [
    "Which state (of those that report `mmr`) has the smallest fraction of schools above the CDC target vaccination rate of 95%?  "
   ]
  },
  {
   "cell_type": "code",
   "execution_count": 20,
   "id": "13812611-a534-46c2-aae6-0f6c645273e0",
   "metadata": {},
   "outputs": [
    {
     "data": {
      "text/html": [
       "<table class=\"dataframe\">\n",
       "<caption>A tibble: 21 × 3</caption>\n",
       "<thead>\n",
       "\t<tr><th scope=col>state</th><th scope=col>n_above_95</th><th scope=col>frac_above_95</th></tr>\n",
       "\t<tr><th scope=col>&lt;chr&gt;</th><th scope=col>&lt;int&gt;</th><th scope=col>&lt;dbl&gt;</th></tr>\n",
       "</thead>\n",
       "<tbody>\n",
       "\t<tr><td>Arkansas     </td><td>    2</td><td>0.003527337</td></tr>\n",
       "\t<tr><td>Washington   </td><td>  646</td><td>0.326592518</td></tr>\n",
       "\t<tr><td>North Dakota </td><td>  164</td><td>0.455555556</td></tr>\n",
       "\t<tr><td>Maine        </td><td>  169</td><td>0.473389356</td></tr>\n",
       "\t<tr><td>Minnesota    </td><td>  755</td><td>0.473948525</td></tr>\n",
       "\t<tr><td>Ohio         </td><td> 1435</td><td>0.491606715</td></tr>\n",
       "\t<tr><td>Arizona      </td><td>  593</td><td>0.506404782</td></tr>\n",
       "\t<tr><td>Oregon       </td><td>  478</td><td>0.593052109</td></tr>\n",
       "\t<tr><td>Colorado     </td><td>  939</td><td>0.623092236</td></tr>\n",
       "\t<tr><td>Texas        </td><td>  508</td><td>0.626387176</td></tr>\n",
       "\t<tr><td>Utah         </td><td>  410</td><td>0.679933665</td></tr>\n",
       "\t<tr><td>Missouri     </td><td>  476</td><td>0.680000000</td></tr>\n",
       "\t<tr><td>Vermont      </td><td>  231</td><td>0.683431953</td></tr>\n",
       "\t<tr><td>Montana      </td><td>  370</td><td>0.708812261</td></tr>\n",
       "\t<tr><td>South Dakota </td><td>  277</td><td>0.742627346</td></tr>\n",
       "\t<tr><td>Connecticut  </td><td>  478</td><td>0.811544992</td></tr>\n",
       "\t<tr><td>Pennsylvania </td><td> 1619</td><td>0.834966478</td></tr>\n",
       "\t<tr><td>New York     </td><td> 3576</td><td>0.859822073</td></tr>\n",
       "\t<tr><td>Massachusetts</td><td>  826</td><td>0.865828092</td></tr>\n",
       "\t<tr><td>California   </td><td>12639</td><td>0.888506151</td></tr>\n",
       "\t<tr><td>Illinois     </td><td> 6893</td><td>0.896825397</td></tr>\n",
       "</tbody>\n",
       "</table>\n"
      ],
      "text/latex": [
       "A tibble: 21 × 3\n",
       "\\begin{tabular}{lll}\n",
       " state & n\\_above\\_95 & frac\\_above\\_95\\\\\n",
       " <chr> & <int> & <dbl>\\\\\n",
       "\\hline\n",
       "\t Arkansas      &     2 & 0.003527337\\\\\n",
       "\t Washington    &   646 & 0.326592518\\\\\n",
       "\t North Dakota  &   164 & 0.455555556\\\\\n",
       "\t Maine         &   169 & 0.473389356\\\\\n",
       "\t Minnesota     &   755 & 0.473948525\\\\\n",
       "\t Ohio          &  1435 & 0.491606715\\\\\n",
       "\t Arizona       &   593 & 0.506404782\\\\\n",
       "\t Oregon        &   478 & 0.593052109\\\\\n",
       "\t Colorado      &   939 & 0.623092236\\\\\n",
       "\t Texas         &   508 & 0.626387176\\\\\n",
       "\t Utah          &   410 & 0.679933665\\\\\n",
       "\t Missouri      &   476 & 0.680000000\\\\\n",
       "\t Vermont       &   231 & 0.683431953\\\\\n",
       "\t Montana       &   370 & 0.708812261\\\\\n",
       "\t South Dakota  &   277 & 0.742627346\\\\\n",
       "\t Connecticut   &   478 & 0.811544992\\\\\n",
       "\t Pennsylvania  &  1619 & 0.834966478\\\\\n",
       "\t New York      &  3576 & 0.859822073\\\\\n",
       "\t Massachusetts &   826 & 0.865828092\\\\\n",
       "\t California    & 12639 & 0.888506151\\\\\n",
       "\t Illinois      &  6893 & 0.896825397\\\\\n",
       "\\end{tabular}\n"
      ],
      "text/markdown": [
       "\n",
       "A tibble: 21 × 3\n",
       "\n",
       "| state &lt;chr&gt; | n_above_95 &lt;int&gt; | frac_above_95 &lt;dbl&gt; |\n",
       "|---|---|---|\n",
       "| Arkansas      |     2 | 0.003527337 |\n",
       "| Washington    |   646 | 0.326592518 |\n",
       "| North Dakota  |   164 | 0.455555556 |\n",
       "| Maine         |   169 | 0.473389356 |\n",
       "| Minnesota     |   755 | 0.473948525 |\n",
       "| Ohio          |  1435 | 0.491606715 |\n",
       "| Arizona       |   593 | 0.506404782 |\n",
       "| Oregon        |   478 | 0.593052109 |\n",
       "| Colorado      |   939 | 0.623092236 |\n",
       "| Texas         |   508 | 0.626387176 |\n",
       "| Utah          |   410 | 0.679933665 |\n",
       "| Missouri      |   476 | 0.680000000 |\n",
       "| Vermont       |   231 | 0.683431953 |\n",
       "| Montana       |   370 | 0.708812261 |\n",
       "| South Dakota  |   277 | 0.742627346 |\n",
       "| Connecticut   |   478 | 0.811544992 |\n",
       "| Pennsylvania  |  1619 | 0.834966478 |\n",
       "| New York      |  3576 | 0.859822073 |\n",
       "| Massachusetts |   826 | 0.865828092 |\n",
       "| California    | 12639 | 0.888506151 |\n",
       "| Illinois      |  6893 | 0.896825397 |\n",
       "\n"
      ],
      "text/plain": [
       "   state         n_above_95 frac_above_95\n",
       "1  Arkansas          2      0.003527337  \n",
       "2  Washington      646      0.326592518  \n",
       "3  North Dakota    164      0.455555556  \n",
       "4  Maine           169      0.473389356  \n",
       "5  Minnesota       755      0.473948525  \n",
       "6  Ohio           1435      0.491606715  \n",
       "7  Arizona         593      0.506404782  \n",
       "8  Oregon          478      0.593052109  \n",
       "9  Colorado        939      0.623092236  \n",
       "10 Texas           508      0.626387176  \n",
       "11 Utah            410      0.679933665  \n",
       "12 Missouri        476      0.680000000  \n",
       "13 Vermont         231      0.683431953  \n",
       "14 Montana         370      0.708812261  \n",
       "15 South Dakota    277      0.742627346  \n",
       "16 Connecticut     478      0.811544992  \n",
       "17 Pennsylvania   1619      0.834966478  \n",
       "18 New York       3576      0.859822073  \n",
       "19 Massachusetts   826      0.865828092  \n",
       "20 California    12639      0.888506151  \n",
       "21 Illinois       6893      0.896825397  "
      ]
     },
     "metadata": {},
     "output_type": "display_data"
    }
   ],
   "source": [
    "df_vacc_rates %>% \n",
    "    arrange(frac_above_95) \n",
    "    \n",
    "# Arkansas"
   ]
  },
  {
   "cell_type": "markdown",
   "id": "2866ca03-1f87-466e-ab0a-dd69140496e6",
   "metadata": {},
   "source": [
    "**Make a ECDF plot of the school vaccination rates in North Carolina.** Use the `overall` column which reports the \"overall\" vaccination rate at each school.\n",
    "\n",
    "❗️Remember, you can calculate the `y` value for ECDF charts using `row_number`, `mutate`, and `arrange`."
   ]
  },
  {
   "cell_type": "code",
   "execution_count": 45,
   "id": "623cf471-29a6-4e81-851e-12cfa97730fd",
   "metadata": {},
   "outputs": [
    {
     "data": {
      "image/png": "[encoded data removed]",
      "text/plain": [
       "plot without title"
      ]
     },
     "metadata": {
      "image/png": {
       "height": 450,
       "width": 600
      }
     },
     "output_type": "display_data"
    }
   ],
   "source": [
    "options(repr.plot.res = 300, repr.plot.height = 3, repr.plot.width = 4)\n",
    "\n",
    "nc_data = vacc %>%\n",
    "    filter(state == \"North Carolina\") %>%\n",
    "    arrange(overall) %>%\n",
    "    mutate(rn = row_number(), fraction_of_schools = rn / max(rn))\n",
    "\n",
    "p = ggplot(nc_data, aes(x = overall/100, y = fraction_of_schools))\n",
    "\n",
    "p = p + geom_point() + geom_line()\n",
    "\n",
    "p = p + labs(x = \"Vaccination Rate\", y = \"Percent of Schools\")\n",
    "\n",
    "p = p + scale_x_continuous(labels = percent)\n",
    "\n",
    "p = p + scale_y_continuous(labels = percent)\n",
    "\n",
    "p = p + geom_vline(aes(xintercept = .95), color = \"red\", linetype = \"dashed\")\n",
    "\n",
    "p = p + geom_hline(aes(yintercept = .5), color = \"orange\", linetype = \"dashed\")\n",
    "\n",
    "p = p + theme_minimal()\n",
    "p"
   ]
  },
  {
   "cell_type": "markdown",
   "id": "8f5ea83f-c904-46ee-9f52-af1bd1afbc96",
   "metadata": {},
   "source": [
    "(My solution is below if you want to peek 👀. Uncomment the code, change the cell to `markdown`, and exectute it.)"
   ]
  },
  {
   "cell_type": "markdown",
   "id": "d10e3f91-f92d-4832-b0b1-afa82de4a014",
   "metadata": {},
   "source": [
    "![](https://github.com/chuckpr/BIOS512/blob/main/assignments/measles-chart.png?raw=true)"
   ]
  },
  {
   "cell_type": "markdown",
   "id": "d2041941-dcee-42e8-957f-a725dc36388f",
   "metadata": {},
   "source": [
    "Is the median vaccination rate for NC schools above the CDC recommended target?"
   ]
  },
  {
   "cell_type": "code",
   "execution_count": 42,
   "id": "be2ea536-f8ed-486d-b6e3-9853ac2b01d0",
   "metadata": {},
   "outputs": [
    {
     "data": {
      "text/html": [
       "<table class=\"dataframe\">\n",
       "<caption>A tibble: 1 × 1</caption>\n",
       "<thead>\n",
       "\t<tr><th scope=col>median</th></tr>\n",
       "\t<tr><th scope=col>&lt;dbl&gt;</th></tr>\n",
       "</thead>\n",
       "<tbody>\n",
       "\t<tr><td>100</td></tr>\n",
       "</tbody>\n",
       "</table>\n"
      ],
      "text/latex": [
       "A tibble: 1 × 1\n",
       "\\begin{tabular}{l}\n",
       " median\\\\\n",
       " <dbl>\\\\\n",
       "\\hline\n",
       "\t 100\\\\\n",
       "\\end{tabular}\n"
      ],
      "text/markdown": [
       "\n",
       "A tibble: 1 × 1\n",
       "\n",
       "| median &lt;dbl&gt; |\n",
       "|---|\n",
       "| 100 |\n",
       "\n"
      ],
      "text/plain": [
       "  median\n",
       "1 100   "
      ]
     },
     "metadata": {},
     "output_type": "display_data"
    }
   ],
   "source": [
    "# yes, you can tell by the horizontal line indicating the median \n",
    "# and the vertical line indicating the 95% recommended target\n",
    "\n",
    "nc_data %>%\n",
    "    summarize(median = median(overall))"
   ]
  }
 ],
 "metadata": {
  "kernelspec": {
   "display_name": "R",
   "language": "R",
   "name": "ir"
  },
  "language_info": {
   "codemirror_mode": "r",
   "file_extension": ".r",
   "mimetype": "text/x-r-source",
   "name": "R",
   "pygments_lexer": "r",
   "version": "4.0.5"
  }
 },
 "nbformat": 4,
 "nbformat_minor": 5
}
