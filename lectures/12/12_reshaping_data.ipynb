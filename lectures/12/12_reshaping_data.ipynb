{
 "cells": [
  {
   "cell_type": "markdown",
   "metadata": {},
   "source": [
    "# `pivot_longer`"
   ]
  },
  {
   "cell_type": "code",
   "execution_count": 1,
   "metadata": {},
   "outputs": [
    {
     "name": "stderr",
     "output_type": "stream",
     "text": [
      "── \u001b[1mAttaching packages\u001b[22m ─────────────────────────────────────── tidyverse 1.3.0 ──\n",
      "\n",
      "\u001b[32m✔\u001b[39m \u001b[34mggplot2\u001b[39m 3.3.2     \u001b[32m✔\u001b[39m \u001b[34mpurrr  \u001b[39m 0.3.4\n",
      "\u001b[32m✔\u001b[39m \u001b[34mtibble \u001b[39m 3.0.4     \u001b[32m✔\u001b[39m \u001b[34mdplyr  \u001b[39m 1.0.2\n",
      "\u001b[32m✔\u001b[39m \u001b[34mtidyr  \u001b[39m 1.1.1     \u001b[32m✔\u001b[39m \u001b[34mstringr\u001b[39m 1.4.0\n",
      "\u001b[32m✔\u001b[39m \u001b[34mreadr  \u001b[39m 1.3.1     \u001b[32m✔\u001b[39m \u001b[34mforcats\u001b[39m 0.5.0\n",
      "\n",
      "── \u001b[1mConflicts\u001b[22m ────────────────────────────────────────── tidyverse_conflicts() ──\n",
      "\u001b[31m✖\u001b[39m \u001b[34mdplyr\u001b[39m::\u001b[32mfilter()\u001b[39m masks \u001b[34mstats\u001b[39m::filter()\n",
      "\u001b[31m✖\u001b[39m \u001b[34mdplyr\u001b[39m::\u001b[32mlag()\u001b[39m    masks \u001b[34mstats\u001b[39m::lag()\n",
      "\n"
     ]
    }
   ],
   "source": [
    "library('tidyverse')"
   ]
  },
  {
   "cell_type": "code",
   "execution_count": 2,
   "metadata": {},
   "outputs": [
    {
     "name": "stdout",
     "output_type": "stream",
     "text": [
      "\u001b[38;5;246m# A tibble: 150 x 5\u001b[39m\n",
      "   Sepal.Length Sepal.Width Petal.Length Petal.Width Species\n",
      "          \u001b[3m\u001b[38;5;246m<dbl>\u001b[39m\u001b[23m       \u001b[3m\u001b[38;5;246m<dbl>\u001b[39m\u001b[23m        \u001b[3m\u001b[38;5;246m<dbl>\u001b[39m\u001b[23m       \u001b[3m\u001b[38;5;246m<dbl>\u001b[39m\u001b[23m \u001b[3m\u001b[38;5;246m<fct>\u001b[39m\u001b[23m  \n",
      "\u001b[38;5;250m 1\u001b[39m          5.1         3.5          1.4         0.2 setosa \n",
      "\u001b[38;5;250m 2\u001b[39m          4.9         3            1.4         0.2 setosa \n",
      "\u001b[38;5;250m 3\u001b[39m          4.7         3.2          1.3         0.2 setosa \n",
      "\u001b[38;5;250m 4\u001b[39m          4.6         3.1          1.5         0.2 setosa \n",
      "\u001b[38;5;250m 5\u001b[39m          5           3.6          1.4         0.2 setosa \n",
      "\u001b[38;5;250m 6\u001b[39m          5.4         3.9          1.7         0.4 setosa \n",
      "\u001b[38;5;250m 7\u001b[39m          4.6         3.4          1.4         0.3 setosa \n",
      "\u001b[38;5;250m 8\u001b[39m          5           3.4          1.5         0.2 setosa \n",
      "\u001b[38;5;250m 9\u001b[39m          4.4         2.9          1.4         0.2 setosa \n",
      "\u001b[38;5;250m10\u001b[39m          4.9         3.1          1.5         0.1 setosa \n",
      "\u001b[38;5;246m# … with 140 more rows\u001b[39m\n"
     ]
    }
   ],
   "source": [
    "iris %>% as_tibble %>% print"
   ]
  },
  {
   "cell_type": "markdown",
   "metadata": {},
   "source": [
    "How would we compare distribution of values for each measurement?"
   ]
  },
  {
   "cell_type": "markdown",
   "metadata": {},
   "source": [
    "![](https://github.com/gadenbuie/tidyexplain/raw/master/images/tidyr-spread-gather.gif)"
   ]
  },
  {
   "cell_type": "code",
   "execution_count": 3,
   "metadata": {},
   "outputs": [],
   "source": [
    "# ?pivot_longer"
   ]
  },
  {
   "cell_type": "code",
   "execution_count": 4,
   "metadata": {},
   "outputs": [
    {
     "name": "stdout",
     "output_type": "stream",
     "text": [
      "\u001b[38;5;246m# A tibble: 600 x 3\u001b[39m\n",
      "   Species name         value\n",
      "   \u001b[3m\u001b[38;5;246m<fct>\u001b[39m\u001b[23m   \u001b[3m\u001b[38;5;246m<chr>\u001b[39m\u001b[23m        \u001b[3m\u001b[38;5;246m<dbl>\u001b[39m\u001b[23m\n",
      "\u001b[38;5;250m 1\u001b[39m setosa  Sepal.Length   5.1\n",
      "\u001b[38;5;250m 2\u001b[39m setosa  Sepal.Width    3.5\n",
      "\u001b[38;5;250m 3\u001b[39m setosa  Petal.Length   1.4\n",
      "\u001b[38;5;250m 4\u001b[39m setosa  Petal.Width    0.2\n",
      "\u001b[38;5;250m 5\u001b[39m setosa  Sepal.Length   4.9\n",
      "\u001b[38;5;250m 6\u001b[39m setosa  Sepal.Width    3  \n",
      "\u001b[38;5;250m 7\u001b[39m setosa  Petal.Length   1.4\n",
      "\u001b[38;5;250m 8\u001b[39m setosa  Petal.Width    0.2\n",
      "\u001b[38;5;250m 9\u001b[39m setosa  Sepal.Length   4.7\n",
      "\u001b[38;5;250m10\u001b[39m setosa  Sepal.Width    3.2\n",
      "\u001b[38;5;246m# … with 590 more rows\u001b[39m\n"
     ]
    }
   ],
   "source": [
    "iris %>%\n",
    "    as_tibble %>%\n",
    "    pivot_longer(cols = c(Sepal.Length, Sepal.Width, Petal.Length, Petal.Width)) %>%\n",
    "    print"
   ]
  },
  {
   "cell_type": "code",
   "execution_count": 5,
   "metadata": {},
   "outputs": [
    {
     "name": "stdout",
     "output_type": "stream",
     "text": [
      "\u001b[38;5;246m# A tibble: 600 x 3\u001b[39m\n",
      "   Species name         value\n",
      "   \u001b[3m\u001b[38;5;246m<fct>\u001b[39m\u001b[23m   \u001b[3m\u001b[38;5;246m<chr>\u001b[39m\u001b[23m        \u001b[3m\u001b[38;5;246m<dbl>\u001b[39m\u001b[23m\n",
      "\u001b[38;5;250m 1\u001b[39m setosa  Sepal.Length   5.1\n",
      "\u001b[38;5;250m 2\u001b[39m setosa  Sepal.Width    3.5\n",
      "\u001b[38;5;250m 3\u001b[39m setosa  Petal.Length   1.4\n",
      "\u001b[38;5;250m 4\u001b[39m setosa  Petal.Width    0.2\n",
      "\u001b[38;5;250m 5\u001b[39m setosa  Sepal.Length   4.9\n",
      "\u001b[38;5;250m 6\u001b[39m setosa  Sepal.Width    3  \n",
      "\u001b[38;5;250m 7\u001b[39m setosa  Petal.Length   1.4\n",
      "\u001b[38;5;250m 8\u001b[39m setosa  Petal.Width    0.2\n",
      "\u001b[38;5;250m 9\u001b[39m setosa  Sepal.Length   4.7\n",
      "\u001b[38;5;250m10\u001b[39m setosa  Sepal.Width    3.2\n",
      "\u001b[38;5;246m# … with 590 more rows\u001b[39m\n"
     ]
    }
   ],
   "source": [
    "iris %>%\n",
    "    as_tibble %>%\n",
    "    pivot_longer(cols = !c(Species)) %>%\n",
    "    print"
   ]
  },
  {
   "cell_type": "code",
   "execution_count": 6,
   "metadata": {},
   "outputs": [],
   "source": [
    "# Plot histogram of each \"name\"\n",
    "\n",
    "# iris_long = iris %>%\n",
    "#     as_tibble %>%\n",
    "#     pivot_longer(cols = !c(Species))"
   ]
  },
  {
   "cell_type": "markdown",
   "metadata": {},
   "source": [
    "# `pivot_wider`"
   ]
  },
  {
   "cell_type": "markdown",
   "metadata": {},
   "source": [
    "![](https://github.com/gadenbuie/tidyexplain/raw/master/images/tidyr-spread-gather.gif)"
   ]
  },
  {
   "cell_type": "code",
   "execution_count": 7,
   "metadata": {},
   "outputs": [],
   "source": [
    "?pivot_wider"
   ]
  },
  {
   "cell_type": "code",
   "execution_count": 8,
   "metadata": {},
   "outputs": [
    {
     "ename": "ERROR",
     "evalue": "Error in eval(lhs, parent, parent): object 'iris_long' not found\n",
     "output_type": "error",
     "traceback": [
      "Error in eval(lhs, parent, parent): object 'iris_long' not found\nTraceback:\n",
      "1. iris_long %>% print",
      "2. eval(lhs, parent, parent)",
      "3. eval(lhs, parent, parent)"
     ]
    }
   ],
   "source": [
    "iris_long %>% print"
   ]
  },
  {
   "cell_type": "code",
   "execution_count": null,
   "metadata": {},
   "outputs": [],
   "source": [
    "# Why won't this work?\n",
    "\n",
    "# iris_long %>% \n",
    "#     pivot_wider(names_from = name, values_from = value)"
   ]
  },
  {
   "cell_type": "code",
   "execution_count": null,
   "metadata": {},
   "outputs": [],
   "source": [
    "iris %>%\n",
    "    as_tibble %>%\n",
    "    mutate(id = row_number()) %>% print"
   ]
  },
  {
   "cell_type": "code",
   "execution_count": null,
   "metadata": {},
   "outputs": [],
   "source": [
    "# Plat Sepal.Length vs. Sepal.Width (starting with iris_long2)\n",
    "\n",
    "# iris_long2 = iris %>%\n",
    "#     as_tibble %>%\n",
    "#     mutate(id = row_number()) %>%\n",
    "#     pivot_longer(cols = !c(Species, id))\n",
    "\n",
    "# iris_wide = iris_long2 %>%\n",
    "#     pivot_wider(id_cols = c(id, Species), names_from = name, values_from = value)"
   ]
  }
 ],
 "metadata": {
  "kernelspec": {
   "display_name": "R",
   "language": "R",
   "name": "ir"
  },
  "language_info": {
   "codemirror_mode": "r",
   "file_extension": ".r",
   "mimetype": "text/x-r-source",
   "name": "R",
   "pygments_lexer": "r",
   "version": "4.1.1"
  }
 },
 "nbformat": 4,
 "nbformat_minor": 4
}
