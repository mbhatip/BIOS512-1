{
 "cells": [
  {
   "cell_type": "markdown",
   "id": "44ef21e9-d5bf-4b50-bd7e-deacd74342ee",
   "metadata": {},
   "source": [
    "Load the `tidyverse`. 📊"
   ]
  },
  {
   "cell_type": "code",
   "execution_count": 1,
   "id": "29a7493c-9d1d-43f2-8544-8d137a0e43db",
   "metadata": {},
   "outputs": [
    {
     "name": "stderr",
     "output_type": "stream",
     "text": [
      "── \u001b[1mAttaching packages\u001b[22m ─────────────────────────────────────── tidyverse 1.3.1 ──\n",
      "\n",
      "\u001b[32m✔\u001b[39m \u001b[34mggplot2\u001b[39m 3.3.5     \u001b[32m✔\u001b[39m \u001b[34mpurrr  \u001b[39m 0.3.4\n",
      "\u001b[32m✔\u001b[39m \u001b[34mtibble \u001b[39m 3.1.4     \u001b[32m✔\u001b[39m \u001b[34mdplyr  \u001b[39m 1.0.7\n",
      "\u001b[32m✔\u001b[39m \u001b[34mtidyr  \u001b[39m 1.1.3     \u001b[32m✔\u001b[39m \u001b[34mstringr\u001b[39m 1.4.0\n",
      "\u001b[32m✔\u001b[39m \u001b[34mreadr  \u001b[39m 2.0.1     \u001b[32m✔\u001b[39m \u001b[34mforcats\u001b[39m 0.5.1\n",
      "\n",
      "── \u001b[1mConflicts\u001b[22m ────────────────────────────────────────── tidyverse_conflicts() ──\n",
      "\u001b[31m✖\u001b[39m \u001b[34mdplyr\u001b[39m::\u001b[32mfilter()\u001b[39m masks \u001b[34mstats\u001b[39m::filter()\n",
      "\u001b[31m✖\u001b[39m \u001b[34mdplyr\u001b[39m::\u001b[32mlag()\u001b[39m    masks \u001b[34mstats\u001b[39m::lag()\n",
      "\n"
     ]
    }
   ],
   "source": [
    "library('tidyverse')"
   ]
  },
  {
   "cell_type": "markdown",
   "id": "dd489df8-b558-4b54-84ef-538f8a894de7",
   "metadata": {},
   "source": [
    "Run the following cell to get the CDC vaccination data. "
   ]
  },
  {
   "cell_type": "code",
   "execution_count": 2,
   "id": "81451d37-91f8-454d-a978-69cdda650afa",
   "metadata": {},
   "outputs": [],
   "source": [
    "vax_data = read_csv(\n",
    "    \"covid19_vaccinations_in_the_united_states.csv\", \n",
    "    na = 'N/A',\n",
    "    col_types = cols()\n",
    ")"
   ]
  },
  {
   "cell_type": "markdown",
   "id": "599c015d-6234-4a94-82e8-80b2ae7642bc",
   "metadata": {},
   "source": [
    "What columns are in the data set? \n",
    "\n",
    "\n",
    "(**Hint:** for wide tables like this it can be useful to just print the column names using the `colnames` function—can you figure out how to use `colnames` from its documentation?)"
   ]
  },
  {
   "cell_type": "code",
   "execution_count": 3,
   "id": "9f919ab8-da0a-444b-a219-a2847b180e2c",
   "metadata": {},
   "outputs": [
    {
     "data": {
      "text/html": [
       "<style>\n",
       ".list-inline {list-style: none; margin:0; padding: 0}\n",
       ".list-inline>li {display: inline-block}\n",
       ".list-inline>li:not(:last-child)::after {content: \"\\00b7\"; padding: 0 .5ex}\n",
       "</style>\n",
       "<ol class=list-inline><li>'State/Territory/Federal Entity'</li><li>'Total Doses Delivered'</li><li>'Doses Delivered per 100K'</li><li>'18+ Doses Delivered per 100K'</li><li>'Total Doses Administered by State where Administered'</li><li>'Doses Administered per 100k by State where Administered'</li><li>'18+ Doses Administered by State where Administered'</li><li>'18+ Doses Administered per 100K by State where Administered'</li><li>'People with at least One Dose by State of Residence'</li><li>'Percent of Total Pop with at least One Dose by State of Residence'</li><li>'People 18+ with at least One Dose by State of Residence'</li><li>'Percent of 18+ Pop with at least One Dose by State of Residence'</li><li>'People Fully Vaccinated by State of Residence'</li><li>'Percent of Total Pop Fully Vaccinated by State of Residence'</li><li>'People 18+ Fully Vaccinated by State of Residence'</li><li>'Percent of 18+ Pop Fully Vaccinated by State of Residence'</li><li>'Total Number of Pfizer doses delivered'</li><li>'Total Number of Moderna doses delivered'</li><li>'Total Number of Janssen doses delivered'</li><li>'Total Number of doses from unknown manufacturer delivered'</li><li>'Total Number of Janssen doses administered'</li><li>'Total Number of Moderna doses administered'</li><li>'Total Number of Pfizer doses adminstered'</li><li>'Total Number of doses from unknown manufacturer administered'</li><li>'People Fully Vaccinated Moderna Resident'</li><li>'People Fully Vaccinated Pfizer Resident'</li><li>'People Fully Vaccinated Janssen Resident'</li><li>'People Fully Vaccinated Unknown 2-dose manufacturer Resident'</li><li>'People 18+ Fully Vaccinated Moderna Resident'</li><li>'People 18+ Fully Vaccinated Pfizer Resident'</li><li>'People 18+ Fully Vaccinated Janssen Resident'</li><li>'People 18+ Fully Vaccinated Unknown 2-dose manufacturer Resident'</li><li>'People with 2 Doses by State of Residence'</li><li>'Percent of Total Pop with 1+ Doses by State of Residence'</li><li>'People 18+ with 1+ Doses by State of Residence'</li><li>'Percent of 18+ Pop with 1+ Doses by State of Residence'</li><li>'Percent of Total Pop with 2 Doses by State of Residence'</li><li>'People 18+ with 2 Doses by State of Residence'</li><li>'Percent of 18+ Pop with 2 Doses by State of Residence'</li><li>'People with 1+ Doses by State of Residence'</li><li>'People 65+ with at least One Dose by State of Residence'</li><li>'Percent of 65+ Pop with at least One Dose by State of Residence'</li><li>'People 65+ Fully Vaccinated by State of Residence'</li><li>'Percent of 65+ Pop Fully Vaccinated by State of Residence'</li><li>'People 65+ Fully Vaccinated_Moderna_Resident'</li><li>'People 65+ Fully Vaccinated_Pfizer_Resident'</li><li>'People 65+ Fully Vaccinated_Janssen_Resident'</li><li>'People 65+ Fully Vaccinated_Unknown 2-dose Manuf_Resident'</li><li>'65+ Doses Administered by State where Administered'</li><li>'Doses Administered per 100k of 65+ pop by State where Administered'</li><li>'Doses Delivered per 100k of 65+ pop'</li><li>'People 12+ with at least One Dose by State of Residence'</li><li>'Percent of 12+ Pop with at least One Dose by State of Residence'</li><li>'People 12+ Fully Vaccinated by State of Residence'</li><li>'Percent of 12+ Pop Fully Vaccinated by State of Residence'</li><li>'People 12+ Fully Vaccinated_Moderna_Resident'</li><li>'People 12+ Fully Vaccinated_Pfizer_Resident'</li><li>'People 12+ Fully Vaccinated_Janssen_Resident'</li><li>'People 12+ Fully Vaccinated_Unknown 2-dose Manuf_Resident'</li><li>'12+ Doses Administered by State where Administered'</li><li>'Doses Administered per 100k of 12+ pop by State where Administered'</li><li>'Doses Delivered per 100k of 12+ pop'</li></ol>\n"
      ],
      "text/latex": [
       "\\begin{enumerate*}\n",
       "\\item 'State/Territory/Federal Entity'\n",
       "\\item 'Total Doses Delivered'\n",
       "\\item 'Doses Delivered per 100K'\n",
       "\\item '18+ Doses Delivered per 100K'\n",
       "\\item 'Total Doses Administered by State where Administered'\n",
       "\\item 'Doses Administered per 100k by State where Administered'\n",
       "\\item '18+ Doses Administered by State where Administered'\n",
       "\\item '18+ Doses Administered per 100K by State where Administered'\n",
       "\\item 'People with at least One Dose by State of Residence'\n",
       "\\item 'Percent of Total Pop with at least One Dose by State of Residence'\n",
       "\\item 'People 18+ with at least One Dose by State of Residence'\n",
       "\\item 'Percent of 18+ Pop with at least One Dose by State of Residence'\n",
       "\\item 'People Fully Vaccinated by State of Residence'\n",
       "\\item 'Percent of Total Pop Fully Vaccinated by State of Residence'\n",
       "\\item 'People 18+ Fully Vaccinated by State of Residence'\n",
       "\\item 'Percent of 18+ Pop Fully Vaccinated by State of Residence'\n",
       "\\item 'Total Number of Pfizer doses delivered'\n",
       "\\item 'Total Number of Moderna doses delivered'\n",
       "\\item 'Total Number of Janssen doses delivered'\n",
       "\\item 'Total Number of doses from unknown manufacturer delivered'\n",
       "\\item 'Total Number of Janssen doses administered'\n",
       "\\item 'Total Number of Moderna doses administered'\n",
       "\\item 'Total Number of Pfizer doses adminstered'\n",
       "\\item 'Total Number of doses from unknown manufacturer administered'\n",
       "\\item 'People Fully Vaccinated Moderna Resident'\n",
       "\\item 'People Fully Vaccinated Pfizer Resident'\n",
       "\\item 'People Fully Vaccinated Janssen Resident'\n",
       "\\item 'People Fully Vaccinated Unknown 2-dose manufacturer Resident'\n",
       "\\item 'People 18+ Fully Vaccinated Moderna Resident'\n",
       "\\item 'People 18+ Fully Vaccinated Pfizer Resident'\n",
       "\\item 'People 18+ Fully Vaccinated Janssen Resident'\n",
       "\\item 'People 18+ Fully Vaccinated Unknown 2-dose manufacturer Resident'\n",
       "\\item 'People with 2 Doses by State of Residence'\n",
       "\\item 'Percent of Total Pop with 1+ Doses by State of Residence'\n",
       "\\item 'People 18+ with 1+ Doses by State of Residence'\n",
       "\\item 'Percent of 18+ Pop with 1+ Doses by State of Residence'\n",
       "\\item 'Percent of Total Pop with 2 Doses by State of Residence'\n",
       "\\item 'People 18+ with 2 Doses by State of Residence'\n",
       "\\item 'Percent of 18+ Pop with 2 Doses by State of Residence'\n",
       "\\item 'People with 1+ Doses by State of Residence'\n",
       "\\item 'People 65+ with at least One Dose by State of Residence'\n",
       "\\item 'Percent of 65+ Pop with at least One Dose by State of Residence'\n",
       "\\item 'People 65+ Fully Vaccinated by State of Residence'\n",
       "\\item 'Percent of 65+ Pop Fully Vaccinated by State of Residence'\n",
       "\\item 'People 65+ Fully Vaccinated\\_Moderna\\_Resident'\n",
       "\\item 'People 65+ Fully Vaccinated\\_Pfizer\\_Resident'\n",
       "\\item 'People 65+ Fully Vaccinated\\_Janssen\\_Resident'\n",
       "\\item 'People 65+ Fully Vaccinated\\_Unknown 2-dose Manuf\\_Resident'\n",
       "\\item '65+ Doses Administered by State where Administered'\n",
       "\\item 'Doses Administered per 100k of 65+ pop by State where Administered'\n",
       "\\item 'Doses Delivered per 100k of 65+ pop'\n",
       "\\item 'People 12+ with at least One Dose by State of Residence'\n",
       "\\item 'Percent of 12+ Pop with at least One Dose by State of Residence'\n",
       "\\item 'People 12+ Fully Vaccinated by State of Residence'\n",
       "\\item 'Percent of 12+ Pop Fully Vaccinated by State of Residence'\n",
       "\\item 'People 12+ Fully Vaccinated\\_Moderna\\_Resident'\n",
       "\\item 'People 12+ Fully Vaccinated\\_Pfizer\\_Resident'\n",
       "\\item 'People 12+ Fully Vaccinated\\_Janssen\\_Resident'\n",
       "\\item 'People 12+ Fully Vaccinated\\_Unknown 2-dose Manuf\\_Resident'\n",
       "\\item '12+ Doses Administered by State where Administered'\n",
       "\\item 'Doses Administered per 100k of 12+ pop by State where Administered'\n",
       "\\item 'Doses Delivered per 100k of 12+ pop'\n",
       "\\end{enumerate*}\n"
      ],
      "text/markdown": [
       "1. 'State/Territory/Federal Entity'\n",
       "2. 'Total Doses Delivered'\n",
       "3. 'Doses Delivered per 100K'\n",
       "4. '18+ Doses Delivered per 100K'\n",
       "5. 'Total Doses Administered by State where Administered'\n",
       "6. 'Doses Administered per 100k by State where Administered'\n",
       "7. '18+ Doses Administered by State where Administered'\n",
       "8. '18+ Doses Administered per 100K by State where Administered'\n",
       "9. 'People with at least One Dose by State of Residence'\n",
       "10. 'Percent of Total Pop with at least One Dose by State of Residence'\n",
       "11. 'People 18+ with at least One Dose by State of Residence'\n",
       "12. 'Percent of 18+ Pop with at least One Dose by State of Residence'\n",
       "13. 'People Fully Vaccinated by State of Residence'\n",
       "14. 'Percent of Total Pop Fully Vaccinated by State of Residence'\n",
       "15. 'People 18+ Fully Vaccinated by State of Residence'\n",
       "16. 'Percent of 18+ Pop Fully Vaccinated by State of Residence'\n",
       "17. 'Total Number of Pfizer doses delivered'\n",
       "18. 'Total Number of Moderna doses delivered'\n",
       "19. 'Total Number of Janssen doses delivered'\n",
       "20. 'Total Number of doses from unknown manufacturer delivered'\n",
       "21. 'Total Number of Janssen doses administered'\n",
       "22. 'Total Number of Moderna doses administered'\n",
       "23. 'Total Number of Pfizer doses adminstered'\n",
       "24. 'Total Number of doses from unknown manufacturer administered'\n",
       "25. 'People Fully Vaccinated Moderna Resident'\n",
       "26. 'People Fully Vaccinated Pfizer Resident'\n",
       "27. 'People Fully Vaccinated Janssen Resident'\n",
       "28. 'People Fully Vaccinated Unknown 2-dose manufacturer Resident'\n",
       "29. 'People 18+ Fully Vaccinated Moderna Resident'\n",
       "30. 'People 18+ Fully Vaccinated Pfizer Resident'\n",
       "31. 'People 18+ Fully Vaccinated Janssen Resident'\n",
       "32. 'People 18+ Fully Vaccinated Unknown 2-dose manufacturer Resident'\n",
       "33. 'People with 2 Doses by State of Residence'\n",
       "34. 'Percent of Total Pop with 1+ Doses by State of Residence'\n",
       "35. 'People 18+ with 1+ Doses by State of Residence'\n",
       "36. 'Percent of 18+ Pop with 1+ Doses by State of Residence'\n",
       "37. 'Percent of Total Pop with 2 Doses by State of Residence'\n",
       "38. 'People 18+ with 2 Doses by State of Residence'\n",
       "39. 'Percent of 18+ Pop with 2 Doses by State of Residence'\n",
       "40. 'People with 1+ Doses by State of Residence'\n",
       "41. 'People 65+ with at least One Dose by State of Residence'\n",
       "42. 'Percent of 65+ Pop with at least One Dose by State of Residence'\n",
       "43. 'People 65+ Fully Vaccinated by State of Residence'\n",
       "44. 'Percent of 65+ Pop Fully Vaccinated by State of Residence'\n",
       "45. 'People 65+ Fully Vaccinated_Moderna_Resident'\n",
       "46. 'People 65+ Fully Vaccinated_Pfizer_Resident'\n",
       "47. 'People 65+ Fully Vaccinated_Janssen_Resident'\n",
       "48. 'People 65+ Fully Vaccinated_Unknown 2-dose Manuf_Resident'\n",
       "49. '65+ Doses Administered by State where Administered'\n",
       "50. 'Doses Administered per 100k of 65+ pop by State where Administered'\n",
       "51. 'Doses Delivered per 100k of 65+ pop'\n",
       "52. 'People 12+ with at least One Dose by State of Residence'\n",
       "53. 'Percent of 12+ Pop with at least One Dose by State of Residence'\n",
       "54. 'People 12+ Fully Vaccinated by State of Residence'\n",
       "55. 'Percent of 12+ Pop Fully Vaccinated by State of Residence'\n",
       "56. 'People 12+ Fully Vaccinated_Moderna_Resident'\n",
       "57. 'People 12+ Fully Vaccinated_Pfizer_Resident'\n",
       "58. 'People 12+ Fully Vaccinated_Janssen_Resident'\n",
       "59. 'People 12+ Fully Vaccinated_Unknown 2-dose Manuf_Resident'\n",
       "60. '12+ Doses Administered by State where Administered'\n",
       "61. 'Doses Administered per 100k of 12+ pop by State where Administered'\n",
       "62. 'Doses Delivered per 100k of 12+ pop'\n",
       "\n",
       "\n"
      ],
      "text/plain": [
       " [1] \"State/Territory/Federal Entity\"                                    \n",
       " [2] \"Total Doses Delivered\"                                             \n",
       " [3] \"Doses Delivered per 100K\"                                          \n",
       " [4] \"18+ Doses Delivered per 100K\"                                      \n",
       " [5] \"Total Doses Administered by State where Administered\"              \n",
       " [6] \"Doses Administered per 100k by State where Administered\"           \n",
       " [7] \"18+ Doses Administered by State where Administered\"                \n",
       " [8] \"18+ Doses Administered per 100K by State where Administered\"       \n",
       " [9] \"People with at least One Dose by State of Residence\"               \n",
       "[10] \"Percent of Total Pop with at least One Dose by State of Residence\" \n",
       "[11] \"People 18+ with at least One Dose by State of Residence\"           \n",
       "[12] \"Percent of 18+ Pop with at least One Dose by State of Residence\"   \n",
       "[13] \"People Fully Vaccinated by State of Residence\"                     \n",
       "[14] \"Percent of Total Pop Fully Vaccinated by State of Residence\"       \n",
       "[15] \"People 18+ Fully Vaccinated by State of Residence\"                 \n",
       "[16] \"Percent of 18+ Pop Fully Vaccinated by State of Residence\"         \n",
       "[17] \"Total Number of Pfizer doses delivered\"                            \n",
       "[18] \"Total Number of Moderna doses delivered\"                           \n",
       "[19] \"Total Number of Janssen doses delivered\"                           \n",
       "[20] \"Total Number of doses from unknown manufacturer delivered\"         \n",
       "[21] \"Total Number of Janssen doses administered\"                        \n",
       "[22] \"Total Number of Moderna doses administered\"                        \n",
       "[23] \"Total Number of Pfizer doses adminstered\"                          \n",
       "[24] \"Total Number of doses from unknown manufacturer administered\"      \n",
       "[25] \"People Fully Vaccinated Moderna Resident\"                          \n",
       "[26] \"People Fully Vaccinated Pfizer Resident\"                           \n",
       "[27] \"People Fully Vaccinated Janssen Resident\"                          \n",
       "[28] \"People Fully Vaccinated Unknown 2-dose manufacturer Resident\"      \n",
       "[29] \"People 18+ Fully Vaccinated Moderna Resident\"                      \n",
       "[30] \"People 18+ Fully Vaccinated Pfizer Resident\"                       \n",
       "[31] \"People 18+ Fully Vaccinated Janssen Resident\"                      \n",
       "[32] \"People 18+ Fully Vaccinated Unknown 2-dose manufacturer Resident\"  \n",
       "[33] \"People with 2 Doses by State of Residence\"                         \n",
       "[34] \"Percent of Total Pop with 1+ Doses by State of Residence\"          \n",
       "[35] \"People 18+ with 1+ Doses by State of Residence\"                    \n",
       "[36] \"Percent of 18+ Pop with 1+ Doses by State of Residence\"            \n",
       "[37] \"Percent of Total Pop with 2 Doses by State of Residence\"           \n",
       "[38] \"People 18+ with 2 Doses by State of Residence\"                     \n",
       "[39] \"Percent of 18+ Pop with 2 Doses by State of Residence\"             \n",
       "[40] \"People with 1+ Doses by State of Residence\"                        \n",
       "[41] \"People 65+ with at least One Dose by State of Residence\"           \n",
       "[42] \"Percent of 65+ Pop with at least One Dose by State of Residence\"   \n",
       "[43] \"People 65+ Fully Vaccinated by State of Residence\"                 \n",
       "[44] \"Percent of 65+ Pop Fully Vaccinated by State of Residence\"         \n",
       "[45] \"People 65+ Fully Vaccinated_Moderna_Resident\"                      \n",
       "[46] \"People 65+ Fully Vaccinated_Pfizer_Resident\"                       \n",
       "[47] \"People 65+ Fully Vaccinated_Janssen_Resident\"                      \n",
       "[48] \"People 65+ Fully Vaccinated_Unknown 2-dose Manuf_Resident\"         \n",
       "[49] \"65+ Doses Administered by State where Administered\"                \n",
       "[50] \"Doses Administered per 100k of 65+ pop by State where Administered\"\n",
       "[51] \"Doses Delivered per 100k of 65+ pop\"                               \n",
       "[52] \"People 12+ with at least One Dose by State of Residence\"           \n",
       "[53] \"Percent of 12+ Pop with at least One Dose by State of Residence\"   \n",
       "[54] \"People 12+ Fully Vaccinated by State of Residence\"                 \n",
       "[55] \"Percent of 12+ Pop Fully Vaccinated by State of Residence\"         \n",
       "[56] \"People 12+ Fully Vaccinated_Moderna_Resident\"                      \n",
       "[57] \"People 12+ Fully Vaccinated_Pfizer_Resident\"                       \n",
       "[58] \"People 12+ Fully Vaccinated_Janssen_Resident\"                      \n",
       "[59] \"People 12+ Fully Vaccinated_Unknown 2-dose Manuf_Resident\"         \n",
       "[60] \"12+ Doses Administered by State where Administered\"                \n",
       "[61] \"Doses Administered per 100k of 12+ pop by State where Administered\"\n",
       "[62] \"Doses Delivered per 100k of 12+ pop\"                               "
      ]
     },
     "metadata": {},
     "output_type": "display_data"
    }
   ],
   "source": [
    "vax_data %>% colnames"
   ]
  },
  {
   "cell_type": "markdown",
   "id": "65efa63b-9ec0-44a8-ab7d-e93ce99c09a0",
   "metadata": {},
   "source": [
    "Make a histogram (with a rug) of 18+ at-least-one-dose vaccination rates (percent) for all states. **When you're working with a column name that has spaces, you need to wrap it in back ticks \\`\\`.**\n",
    "\n",
    "Like this:\n",
    "\n",
    "```R\n",
    "aes(x = `some column name with spaces`)\n",
    "```\n",
    "\n",
    "![](data:image/jpeg;base64,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)"
   ]
  },
  {
   "cell_type": "code",
   "execution_count": 15,
   "id": "525758ea-cad4-4853-887f-5a29761b9eb9",
   "metadata": {},
   "outputs": [
    {
     "name": "stderr",
     "output_type": "stream",
     "text": [
      "`stat_bin()` using `bins = 30`. Pick better value with `binwidth`.\n",
      "\n",
      "Warning message:\n",
      "“Removed 4 rows containing non-finite values (stat_bin).”\n"
     ]
    },
    {
     "data": {
      "image/png": "[encoded data removed]",
      "text/plain": [
       "plot without title"
      ]
     },
     "metadata": {
      "image/png": {
       "height": 420,
       "width": 420
      }
     },
     "output_type": "display_data"
    }
   ],
   "source": [
    "p = ggplot(vax_data, aes(x = `Percent of 18+ Pop with at least One Dose by State of Residence`))\n",
    "\n",
    "p = p + geom_histogram()\n",
    "p = p + geom_rug()\n",
    "p"
   ]
  },
  {
   "cell_type": "markdown",
   "id": "58691fb0-7cfa-4225-a5c6-1065e9a49494",
   "metadata": {},
   "source": [
    "The code below will pull out the vaccination rate for North Carolina."
   ]
  },
  {
   "cell_type": "code",
   "execution_count": null,
   "id": "f7421f84-d1e0-4e60-8d06-9def4fcadd87",
   "metadata": {},
   "outputs": [],
   "source": [
    "vax_data %>%\n",
    "    filter(`State/Territory/Federal Entity` == \"North Carolina\") %>%\n",
    "    pull(`Percent of 18+ Pop with at least One Dose by State of Residence`) %>%\n",
    "    paste(\"of 18 or older North Carolinians have at least 1 dose\")"
   ]
  },
  {
   "cell_type": "markdown",
   "id": "cbcbab3a-ef55-400e-9418-4b88286e70c1",
   "metadata": {},
   "source": [
    "Can you use `geom_vline` to add a vertical line representing the position of NC's vaccination rate to your histogram? What arguments does `geom_vline` take?"
   ]
  },
  {
   "cell_type": "code",
   "execution_count": 16,
   "id": "056306c9-2ad5-487a-9e8a-1cc186fabb34",
   "metadata": {},
   "outputs": [
    {
     "name": "stderr",
     "output_type": "stream",
     "text": [
      "`stat_bin()` using `bins = 30`. Pick better value with `binwidth`.\n",
      "\n",
      "Warning message:\n",
      "“Removed 4 rows containing non-finite values (stat_bin).”\n"
     ]
    },
    {
     "data": {
      "image/png": "[encoded data removed]",
      "text/plain": [
       "plot without title"
      ]
     },
     "metadata": {
      "image/png": {
       "height": 420,
       "width": 420
      }
     },
     "output_type": "display_data"
    }
   ],
   "source": [
    "p = p + geom_vline(xintercept=69.4)\n",
    "\n",
    "p"
   ]
  },
  {
   "cell_type": "code",
   "execution_count": 23,
   "id": "a683e379-45fc-4fed-a044-58a0236a2b94",
   "metadata": {},
   "outputs": [],
   "source": [
    "vax_data_long = vax_data %>% \n",
    "    rename(perc_18_1dose = `Percent of 18+ Pop with 1+ Doses by State of Residence`,\n",
    "           perc_18_2dose = `Percent of 18+ Pop with 2 Doses by State of Residence`) %>%\n",
    "    select(perc_18_1dose, perc_18_2dose, `State/Territory/Federal Entity`) %>%\n",
    "    pivot_longer(cols = c(\"perc_18_1dose\", \"perc_18_2dose\"),\n",
    "                values_to = \"percent\",\n",
    "                names_to = \"dose_number\") %>% \n",
    "    mutate(nc = ifelse(`State/Territory/Federal Entity` == 'North Carolina', 'yes', 'no'))"
   ]
  },
  {
   "cell_type": "code",
   "execution_count": 30,
   "id": "19038860-7b4a-4e3b-b9a3-2af2746bf0be",
   "metadata": {},
   "outputs": [
    {
     "name": "stderr",
     "output_type": "stream",
     "text": [
      "Warning message:\n",
      "“Removed 4 rows containing missing values (geom_point).”\n"
     ]
    },
    {
     "data": {
      "image/png": "[encoded data removed]",
      "text/plain": [
       "plot without title"
      ]
     },
     "metadata": {
      "image/png": {
       "height": 420,
       "width": 420
      }
     },
     "output_type": "display_data"
    }
   ],
   "source": [
    "library('ggrepel')\n",
    "\n",
    "p = ggplot(vax_data_long, aes(x = percent, y = dose_number, color = nc, label = `State/Territory/Federal Entity`))\n",
    "\n",
    "p = p + geom_point(position = position_jitter(w=0, h=.2))\n",
    "\n",
    "p = p + scale_color_manual(values = c(\"gray60\", \"red\"))\n",
    "\n",
    "p = p + geom_text_repel(data = vax_data_long %>% filter(nc == 'yes'), nudge_x = -50)\n",
    "\n",
    "p"
   ]
  },
  {
   "cell_type": "markdown",
   "id": "dccb8130-a62a-4726-86fb-64aa4a2e81f8",
   "metadata": {},
   "source": [
    "🛑 **Stop here** 🛑"
   ]
  },
  {
   "cell_type": "markdown",
   "id": "5dd0f2c5-7772-4559-af52-2b7411a9910f",
   "metadata": {},
   "source": [
    "Use `percent_format` function from the `scales` and `scale_x_continuous` package to update the `x-axis` labels to percent formatting."
   ]
  },
  {
   "cell_type": "code",
   "execution_count": 20,
   "id": "6411d96d-8f7d-4a9e-9aa7-948e217cc0f3",
   "metadata": {},
   "outputs": [
    {
     "data": {
      "text/html": [
       "<table class=\"dataframe\">\n",
       "<caption>A tibble: 126 × 4</caption>\n",
       "<thead>\n",
       "\t<tr><th scope=col>State/Territory/Federal Entity</th><th scope=col>dose_number</th><th scope=col>percent</th><th scope=col>nc</th></tr>\n",
       "\t<tr><th scope=col>&lt;chr&gt;</th><th scope=col>&lt;chr&gt;</th><th scope=col>&lt;dbl&gt;</th><th scope=col>&lt;chr&gt;</th></tr>\n",
       "</thead>\n",
       "<tbody>\n",
       "\t<tr><td>Alaska                        </td><td>perc_18_1dose</td><td>68.9</td><td>no</td></tr>\n",
       "\t<tr><td>Alaska                        </td><td>perc_18_2dose</td><td>54.6</td><td>no</td></tr>\n",
       "\t<tr><td>Alabama                       </td><td>perc_18_1dose</td><td>62.7</td><td>no</td></tr>\n",
       "\t<tr><td>Alabama                       </td><td>perc_18_2dose</td><td>46.2</td><td>no</td></tr>\n",
       "\t<tr><td>Arkansas                      </td><td>perc_18_1dose</td><td>66.4</td><td>no</td></tr>\n",
       "\t<tr><td>Arkansas                      </td><td>perc_18_2dose</td><td>49.7</td><td>no</td></tr>\n",
       "\t<tr><td>American Samoa                </td><td>perc_18_1dose</td><td>62.7</td><td>no</td></tr>\n",
       "\t<tr><td>American Samoa                </td><td>perc_18_2dose</td><td>52.0</td><td>no</td></tr>\n",
       "\t<tr><td>Arizona                       </td><td>perc_18_1dose</td><td>70.0</td><td>no</td></tr>\n",
       "\t<tr><td>Arizona                       </td><td>perc_18_2dose</td><td>55.5</td><td>no</td></tr>\n",
       "\t<tr><td>Bureau of Prisons             </td><td>perc_18_1dose</td><td>  NA</td><td>no</td></tr>\n",
       "\t<tr><td>Bureau of Prisons             </td><td>perc_18_2dose</td><td> 0.0</td><td>no</td></tr>\n",
       "\t<tr><td>California                    </td><td>perc_18_1dose</td><td>83.9</td><td>no</td></tr>\n",
       "\t<tr><td>California                    </td><td>perc_18_2dose</td><td>62.8</td><td>no</td></tr>\n",
       "\t<tr><td>Colorado                      </td><td>perc_18_1dose</td><td>76.6</td><td>no</td></tr>\n",
       "\t<tr><td>Colorado                      </td><td>perc_18_2dose</td><td>63.6</td><td>no</td></tr>\n",
       "\t<tr><td>Connecticut                   </td><td>perc_18_1dose</td><td>87.1</td><td>no</td></tr>\n",
       "\t<tr><td>Connecticut                   </td><td>perc_18_2dose</td><td>71.7</td><td>no</td></tr>\n",
       "\t<tr><td>District of Columbia          </td><td>perc_18_1dose</td><td>80.5</td><td>no</td></tr>\n",
       "\t<tr><td>District of Columbia          </td><td>perc_18_2dose</td><td>63.2</td><td>no</td></tr>\n",
       "\t<tr><td>Dept of Defense               </td><td>perc_18_1dose</td><td>  NA</td><td>no</td></tr>\n",
       "\t<tr><td>Dept of Defense               </td><td>perc_18_2dose</td><td> 0.0</td><td>no</td></tr>\n",
       "\t<tr><td>Delaware                      </td><td>perc_18_1dose</td><td>77.3</td><td>no</td></tr>\n",
       "\t<tr><td>Delaware                      </td><td>perc_18_2dose</td><td>60.9</td><td>no</td></tr>\n",
       "\t<tr><td>Florida                       </td><td>perc_18_1dose</td><td>77.2</td><td>no</td></tr>\n",
       "\t<tr><td>Florida                       </td><td>perc_18_2dose</td><td>58.8</td><td>no</td></tr>\n",
       "\t<tr><td>Federated States of Micronesia</td><td>perc_18_1dose</td><td>52.8</td><td>no</td></tr>\n",
       "\t<tr><td>Federated States of Micronesia</td><td>perc_18_2dose</td><td>31.3</td><td>no</td></tr>\n",
       "\t<tr><td>Georgia                       </td><td>perc_18_1dose</td><td>65.5</td><td>no</td></tr>\n",
       "\t<tr><td>Georgia                       </td><td>perc_18_2dose</td><td>50.6</td><td>no</td></tr>\n",
       "\t<tr><td>⋮</td><td>⋮</td><td>⋮</td><td>⋮</td></tr>\n",
       "\t<tr><td>Rhode Island     </td><td>perc_18_1dose</td><td>85.1</td><td>no</td></tr>\n",
       "\t<tr><td>Rhode Island     </td><td>perc_18_2dose</td><td>71.1</td><td>no</td></tr>\n",
       "\t<tr><td>Republic of Palau</td><td>perc_18_1dose</td><td>99.9</td><td>no</td></tr>\n",
       "\t<tr><td>Republic of Palau</td><td>perc_18_2dose</td><td>83.2</td><td>no</td></tr>\n",
       "\t<tr><td>South Carolina   </td><td>perc_18_1dose</td><td>64.6</td><td>no</td></tr>\n",
       "\t<tr><td>South Carolina   </td><td>perc_18_2dose</td><td>50.6</td><td>no</td></tr>\n",
       "\t<tr><td>South Dakota     </td><td>perc_18_1dose</td><td>71.6</td><td>no</td></tr>\n",
       "\t<tr><td>South Dakota     </td><td>perc_18_2dose</td><td>58.5</td><td>no</td></tr>\n",
       "\t<tr><td>Tennessee        </td><td>perc_18_1dose</td><td>62.6</td><td>no</td></tr>\n",
       "\t<tr><td>Tennessee        </td><td>perc_18_2dose</td><td>49.9</td><td>no</td></tr>\n",
       "\t<tr><td>Texas            </td><td>perc_18_1dose</td><td>72.1</td><td>no</td></tr>\n",
       "\t<tr><td>Texas            </td><td>perc_18_2dose</td><td>56.3</td><td>no</td></tr>\n",
       "\t<tr><td>Utah             </td><td>perc_18_1dose</td><td>73.9</td><td>no</td></tr>\n",
       "\t<tr><td>Utah             </td><td>perc_18_2dose</td><td>57.2</td><td>no</td></tr>\n",
       "\t<tr><td>Virginia         </td><td>perc_18_1dose</td><td>79.0</td><td>no</td></tr>\n",
       "\t<tr><td>Virginia         </td><td>perc_18_2dose</td><td>64.1</td><td>no</td></tr>\n",
       "\t<tr><td>Veterans Health  </td><td>perc_18_1dose</td><td>  NA</td><td>no</td></tr>\n",
       "\t<tr><td>Veterans Health  </td><td>perc_18_2dose</td><td> 0.0</td><td>no</td></tr>\n",
       "\t<tr><td>Virgin Islands   </td><td>perc_18_1dose</td><td>61.4</td><td>no</td></tr>\n",
       "\t<tr><td>Virgin Islands   </td><td>perc_18_2dose</td><td>51.2</td><td>no</td></tr>\n",
       "\t<tr><td>Vermont          </td><td>perc_18_1dose</td><td>87.9</td><td>no</td></tr>\n",
       "\t<tr><td>Vermont          </td><td>perc_18_2dose</td><td>70.5</td><td>no</td></tr>\n",
       "\t<tr><td>Washington       </td><td>perc_18_1dose</td><td>83.3</td><td>no</td></tr>\n",
       "\t<tr><td>Washington       </td><td>perc_18_2dose</td><td>67.2</td><td>no</td></tr>\n",
       "\t<tr><td>Wisconsin        </td><td>perc_18_1dose</td><td>71.8</td><td>no</td></tr>\n",
       "\t<tr><td>Wisconsin        </td><td>perc_18_2dose</td><td>60.9</td><td>no</td></tr>\n",
       "\t<tr><td>West Virginia    </td><td>perc_18_1dose</td><td>56.6</td><td>no</td></tr>\n",
       "\t<tr><td>West Virginia    </td><td>perc_18_2dose</td><td>45.0</td><td>no</td></tr>\n",
       "\t<tr><td>Wyoming          </td><td>perc_18_1dose</td><td>58.1</td><td>no</td></tr>\n",
       "\t<tr><td>Wyoming          </td><td>perc_18_2dose</td><td>45.3</td><td>no</td></tr>\n",
       "</tbody>\n",
       "</table>\n"
      ],
      "text/latex": [
       "A tibble: 126 × 4\n",
       "\\begin{tabular}{llll}\n",
       " State/Territory/Federal Entity & dose\\_number & percent & nc\\\\\n",
       " <chr> & <chr> & <dbl> & <chr>\\\\\n",
       "\\hline\n",
       "\t Alaska                         & perc\\_18\\_1dose & 68.9 & no\\\\\n",
       "\t Alaska                         & perc\\_18\\_2dose & 54.6 & no\\\\\n",
       "\t Alabama                        & perc\\_18\\_1dose & 62.7 & no\\\\\n",
       "\t Alabama                        & perc\\_18\\_2dose & 46.2 & no\\\\\n",
       "\t Arkansas                       & perc\\_18\\_1dose & 66.4 & no\\\\\n",
       "\t Arkansas                       & perc\\_18\\_2dose & 49.7 & no\\\\\n",
       "\t American Samoa                 & perc\\_18\\_1dose & 62.7 & no\\\\\n",
       "\t American Samoa                 & perc\\_18\\_2dose & 52.0 & no\\\\\n",
       "\t Arizona                        & perc\\_18\\_1dose & 70.0 & no\\\\\n",
       "\t Arizona                        & perc\\_18\\_2dose & 55.5 & no\\\\\n",
       "\t Bureau of Prisons              & perc\\_18\\_1dose &   NA & no\\\\\n",
       "\t Bureau of Prisons              & perc\\_18\\_2dose &  0.0 & no\\\\\n",
       "\t California                     & perc\\_18\\_1dose & 83.9 & no\\\\\n",
       "\t California                     & perc\\_18\\_2dose & 62.8 & no\\\\\n",
       "\t Colorado                       & perc\\_18\\_1dose & 76.6 & no\\\\\n",
       "\t Colorado                       & perc\\_18\\_2dose & 63.6 & no\\\\\n",
       "\t Connecticut                    & perc\\_18\\_1dose & 87.1 & no\\\\\n",
       "\t Connecticut                    & perc\\_18\\_2dose & 71.7 & no\\\\\n",
       "\t District of Columbia           & perc\\_18\\_1dose & 80.5 & no\\\\\n",
       "\t District of Columbia           & perc\\_18\\_2dose & 63.2 & no\\\\\n",
       "\t Dept of Defense                & perc\\_18\\_1dose &   NA & no\\\\\n",
       "\t Dept of Defense                & perc\\_18\\_2dose &  0.0 & no\\\\\n",
       "\t Delaware                       & perc\\_18\\_1dose & 77.3 & no\\\\\n",
       "\t Delaware                       & perc\\_18\\_2dose & 60.9 & no\\\\\n",
       "\t Florida                        & perc\\_18\\_1dose & 77.2 & no\\\\\n",
       "\t Florida                        & perc\\_18\\_2dose & 58.8 & no\\\\\n",
       "\t Federated States of Micronesia & perc\\_18\\_1dose & 52.8 & no\\\\\n",
       "\t Federated States of Micronesia & perc\\_18\\_2dose & 31.3 & no\\\\\n",
       "\t Georgia                        & perc\\_18\\_1dose & 65.5 & no\\\\\n",
       "\t Georgia                        & perc\\_18\\_2dose & 50.6 & no\\\\\n",
       "\t ⋮ & ⋮ & ⋮ & ⋮\\\\\n",
       "\t Rhode Island      & perc\\_18\\_1dose & 85.1 & no\\\\\n",
       "\t Rhode Island      & perc\\_18\\_2dose & 71.1 & no\\\\\n",
       "\t Republic of Palau & perc\\_18\\_1dose & 99.9 & no\\\\\n",
       "\t Republic of Palau & perc\\_18\\_2dose & 83.2 & no\\\\\n",
       "\t South Carolina    & perc\\_18\\_1dose & 64.6 & no\\\\\n",
       "\t South Carolina    & perc\\_18\\_2dose & 50.6 & no\\\\\n",
       "\t South Dakota      & perc\\_18\\_1dose & 71.6 & no\\\\\n",
       "\t South Dakota      & perc\\_18\\_2dose & 58.5 & no\\\\\n",
       "\t Tennessee         & perc\\_18\\_1dose & 62.6 & no\\\\\n",
       "\t Tennessee         & perc\\_18\\_2dose & 49.9 & no\\\\\n",
       "\t Texas             & perc\\_18\\_1dose & 72.1 & no\\\\\n",
       "\t Texas             & perc\\_18\\_2dose & 56.3 & no\\\\\n",
       "\t Utah              & perc\\_18\\_1dose & 73.9 & no\\\\\n",
       "\t Utah              & perc\\_18\\_2dose & 57.2 & no\\\\\n",
       "\t Virginia          & perc\\_18\\_1dose & 79.0 & no\\\\\n",
       "\t Virginia          & perc\\_18\\_2dose & 64.1 & no\\\\\n",
       "\t Veterans Health   & perc\\_18\\_1dose &   NA & no\\\\\n",
       "\t Veterans Health   & perc\\_18\\_2dose &  0.0 & no\\\\\n",
       "\t Virgin Islands    & perc\\_18\\_1dose & 61.4 & no\\\\\n",
       "\t Virgin Islands    & perc\\_18\\_2dose & 51.2 & no\\\\\n",
       "\t Vermont           & perc\\_18\\_1dose & 87.9 & no\\\\\n",
       "\t Vermont           & perc\\_18\\_2dose & 70.5 & no\\\\\n",
       "\t Washington        & perc\\_18\\_1dose & 83.3 & no\\\\\n",
       "\t Washington        & perc\\_18\\_2dose & 67.2 & no\\\\\n",
       "\t Wisconsin         & perc\\_18\\_1dose & 71.8 & no\\\\\n",
       "\t Wisconsin         & perc\\_18\\_2dose & 60.9 & no\\\\\n",
       "\t West Virginia     & perc\\_18\\_1dose & 56.6 & no\\\\\n",
       "\t West Virginia     & perc\\_18\\_2dose & 45.0 & no\\\\\n",
       "\t Wyoming           & perc\\_18\\_1dose & 58.1 & no\\\\\n",
       "\t Wyoming           & perc\\_18\\_2dose & 45.3 & no\\\\\n",
       "\\end{tabular}\n"
      ],
      "text/markdown": [
       "\n",
       "A tibble: 126 × 4\n",
       "\n",
       "| State/Territory/Federal Entity &lt;chr&gt; | dose_number &lt;chr&gt; | percent &lt;dbl&gt; | nc &lt;chr&gt; |\n",
       "|---|---|---|---|\n",
       "| Alaska                         | perc_18_1dose | 68.9 | no |\n",
       "| Alaska                         | perc_18_2dose | 54.6 | no |\n",
       "| Alabama                        | perc_18_1dose | 62.7 | no |\n",
       "| Alabama                        | perc_18_2dose | 46.2 | no |\n",
       "| Arkansas                       | perc_18_1dose | 66.4 | no |\n",
       "| Arkansas                       | perc_18_2dose | 49.7 | no |\n",
       "| American Samoa                 | perc_18_1dose | 62.7 | no |\n",
       "| American Samoa                 | perc_18_2dose | 52.0 | no |\n",
       "| Arizona                        | perc_18_1dose | 70.0 | no |\n",
       "| Arizona                        | perc_18_2dose | 55.5 | no |\n",
       "| Bureau of Prisons              | perc_18_1dose |   NA | no |\n",
       "| Bureau of Prisons              | perc_18_2dose |  0.0 | no |\n",
       "| California                     | perc_18_1dose | 83.9 | no |\n",
       "| California                     | perc_18_2dose | 62.8 | no |\n",
       "| Colorado                       | perc_18_1dose | 76.6 | no |\n",
       "| Colorado                       | perc_18_2dose | 63.6 | no |\n",
       "| Connecticut                    | perc_18_1dose | 87.1 | no |\n",
       "| Connecticut                    | perc_18_2dose | 71.7 | no |\n",
       "| District of Columbia           | perc_18_1dose | 80.5 | no |\n",
       "| District of Columbia           | perc_18_2dose | 63.2 | no |\n",
       "| Dept of Defense                | perc_18_1dose |   NA | no |\n",
       "| Dept of Defense                | perc_18_2dose |  0.0 | no |\n",
       "| Delaware                       | perc_18_1dose | 77.3 | no |\n",
       "| Delaware                       | perc_18_2dose | 60.9 | no |\n",
       "| Florida                        | perc_18_1dose | 77.2 | no |\n",
       "| Florida                        | perc_18_2dose | 58.8 | no |\n",
       "| Federated States of Micronesia | perc_18_1dose | 52.8 | no |\n",
       "| Federated States of Micronesia | perc_18_2dose | 31.3 | no |\n",
       "| Georgia                        | perc_18_1dose | 65.5 | no |\n",
       "| Georgia                        | perc_18_2dose | 50.6 | no |\n",
       "| ⋮ | ⋮ | ⋮ | ⋮ |\n",
       "| Rhode Island      | perc_18_1dose | 85.1 | no |\n",
       "| Rhode Island      | perc_18_2dose | 71.1 | no |\n",
       "| Republic of Palau | perc_18_1dose | 99.9 | no |\n",
       "| Republic of Palau | perc_18_2dose | 83.2 | no |\n",
       "| South Carolina    | perc_18_1dose | 64.6 | no |\n",
       "| South Carolina    | perc_18_2dose | 50.6 | no |\n",
       "| South Dakota      | perc_18_1dose | 71.6 | no |\n",
       "| South Dakota      | perc_18_2dose | 58.5 | no |\n",
       "| Tennessee         | perc_18_1dose | 62.6 | no |\n",
       "| Tennessee         | perc_18_2dose | 49.9 | no |\n",
       "| Texas             | perc_18_1dose | 72.1 | no |\n",
       "| Texas             | perc_18_2dose | 56.3 | no |\n",
       "| Utah              | perc_18_1dose | 73.9 | no |\n",
       "| Utah              | perc_18_2dose | 57.2 | no |\n",
       "| Virginia          | perc_18_1dose | 79.0 | no |\n",
       "| Virginia          | perc_18_2dose | 64.1 | no |\n",
       "| Veterans Health   | perc_18_1dose |   NA | no |\n",
       "| Veterans Health   | perc_18_2dose |  0.0 | no |\n",
       "| Virgin Islands    | perc_18_1dose | 61.4 | no |\n",
       "| Virgin Islands    | perc_18_2dose | 51.2 | no |\n",
       "| Vermont           | perc_18_1dose | 87.9 | no |\n",
       "| Vermont           | perc_18_2dose | 70.5 | no |\n",
       "| Washington        | perc_18_1dose | 83.3 | no |\n",
       "| Washington        | perc_18_2dose | 67.2 | no |\n",
       "| Wisconsin         | perc_18_1dose | 71.8 | no |\n",
       "| Wisconsin         | perc_18_2dose | 60.9 | no |\n",
       "| West Virginia     | perc_18_1dose | 56.6 | no |\n",
       "| West Virginia     | perc_18_2dose | 45.0 | no |\n",
       "| Wyoming           | perc_18_1dose | 58.1 | no |\n",
       "| Wyoming           | perc_18_2dose | 45.3 | no |\n",
       "\n"
      ],
      "text/plain": [
       "    State/Territory/Federal Entity dose_number   percent nc\n",
       "1   Alaska                         perc_18_1dose 68.9    no\n",
       "2   Alaska                         perc_18_2dose 54.6    no\n",
       "3   Alabama                        perc_18_1dose 62.7    no\n",
       "4   Alabama                        perc_18_2dose 46.2    no\n",
       "5   Arkansas                       perc_18_1dose 66.4    no\n",
       "6   Arkansas                       perc_18_2dose 49.7    no\n",
       "7   American Samoa                 perc_18_1dose 62.7    no\n",
       "8   American Samoa                 perc_18_2dose 52.0    no\n",
       "9   Arizona                        perc_18_1dose 70.0    no\n",
       "10  Arizona                        perc_18_2dose 55.5    no\n",
       "11  Bureau of Prisons              perc_18_1dose   NA    no\n",
       "12  Bureau of Prisons              perc_18_2dose  0.0    no\n",
       "13  California                     perc_18_1dose 83.9    no\n",
       "14  California                     perc_18_2dose 62.8    no\n",
       "15  Colorado                       perc_18_1dose 76.6    no\n",
       "16  Colorado                       perc_18_2dose 63.6    no\n",
       "17  Connecticut                    perc_18_1dose 87.1    no\n",
       "18  Connecticut                    perc_18_2dose 71.7    no\n",
       "19  District of Columbia           perc_18_1dose 80.5    no\n",
       "20  District of Columbia           perc_18_2dose 63.2    no\n",
       "21  Dept of Defense                perc_18_1dose   NA    no\n",
       "22  Dept of Defense                perc_18_2dose  0.0    no\n",
       "23  Delaware                       perc_18_1dose 77.3    no\n",
       "24  Delaware                       perc_18_2dose 60.9    no\n",
       "25  Florida                        perc_18_1dose 77.2    no\n",
       "26  Florida                        perc_18_2dose 58.8    no\n",
       "27  Federated States of Micronesia perc_18_1dose 52.8    no\n",
       "28  Federated States of Micronesia perc_18_2dose 31.3    no\n",
       "29  Georgia                        perc_18_1dose 65.5    no\n",
       "30  Georgia                        perc_18_2dose 50.6    no\n",
       "⋮   ⋮                              ⋮             ⋮       ⋮ \n",
       "97  Rhode Island                   perc_18_1dose 85.1    no\n",
       "98  Rhode Island                   perc_18_2dose 71.1    no\n",
       "99  Republic of Palau              perc_18_1dose 99.9    no\n",
       "100 Republic of Palau              perc_18_2dose 83.2    no\n",
       "101 South Carolina                 perc_18_1dose 64.6    no\n",
       "102 South Carolina                 perc_18_2dose 50.6    no\n",
       "103 South Dakota                   perc_18_1dose 71.6    no\n",
       "104 South Dakota                   perc_18_2dose 58.5    no\n",
       "105 Tennessee                      perc_18_1dose 62.6    no\n",
       "106 Tennessee                      perc_18_2dose 49.9    no\n",
       "107 Texas                          perc_18_1dose 72.1    no\n",
       "108 Texas                          perc_18_2dose 56.3    no\n",
       "109 Utah                           perc_18_1dose 73.9    no\n",
       "110 Utah                           perc_18_2dose 57.2    no\n",
       "111 Virginia                       perc_18_1dose 79.0    no\n",
       "112 Virginia                       perc_18_2dose 64.1    no\n",
       "113 Veterans Health                perc_18_1dose   NA    no\n",
       "114 Veterans Health                perc_18_2dose  0.0    no\n",
       "115 Virgin Islands                 perc_18_1dose 61.4    no\n",
       "116 Virgin Islands                 perc_18_2dose 51.2    no\n",
       "117 Vermont                        perc_18_1dose 87.9    no\n",
       "118 Vermont                        perc_18_2dose 70.5    no\n",
       "119 Washington                     perc_18_1dose 83.3    no\n",
       "120 Washington                     perc_18_2dose 67.2    no\n",
       "121 Wisconsin                      perc_18_1dose 71.8    no\n",
       "122 Wisconsin                      perc_18_2dose 60.9    no\n",
       "123 West Virginia                  perc_18_1dose 56.6    no\n",
       "124 West Virginia                  perc_18_2dose 45.0    no\n",
       "125 Wyoming                        perc_18_1dose 58.1    no\n",
       "126 Wyoming                        perc_18_2dose 45.3    no"
      ]
     },
     "metadata": {},
     "output_type": "display_data"
    }
   ],
   "source": []
  },
  {
   "cell_type": "markdown",
   "id": "cc8342d2-2271-42c6-88bc-4aaa7015fca1",
   "metadata": {},
   "source": [
    "Make the same chart with a different theme (E.g. try `theme_minimal`)."
   ]
  },
  {
   "cell_type": "code",
   "execution_count": null,
   "id": "fe66d502-f4fa-4c05-b784-0172e611b536",
   "metadata": {},
   "outputs": [],
   "source": []
  }
 ],
 "metadata": {
  "kernelspec": {
   "display_name": "R",
   "language": "R",
   "name": "ir"
  },
  "language_info": {
   "codemirror_mode": "r",
   "file_extension": ".r",
   "mimetype": "text/x-r-source",
   "name": "R",
   "pygments_lexer": "r",
   "version": "4.0.5"
  }
 },
 "nbformat": 4,
 "nbformat_minor": 5
}
