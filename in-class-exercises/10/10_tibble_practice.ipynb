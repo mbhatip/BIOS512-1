{
 "cells": [
  {
   "cell_type": "markdown",
   "metadata": {},
   "source": [
    "Import the `nycflights13` package. (*Hint: use the* `library` *command*)"
   ]
  },
  {
   "cell_type": "code",
   "execution_count": 2,
   "metadata": {},
   "outputs": [
    {
     "name": "stderr",
     "output_type": "stream",
     "text": [
      "── \u001b[1mAttaching packages\u001b[22m ─────────────────────────────────────── tidyverse 1.3.1 ──\n",
      "\n",
      "\u001b[32m✔\u001b[39m \u001b[34mggplot2\u001b[39m 3.3.5     \u001b[32m✔\u001b[39m \u001b[34mpurrr  \u001b[39m 0.3.4\n",
      "\u001b[32m✔\u001b[39m \u001b[34mtibble \u001b[39m 3.1.4     \u001b[32m✔\u001b[39m \u001b[34mdplyr  \u001b[39m 1.0.7\n",
      "\u001b[32m✔\u001b[39m \u001b[34mtidyr  \u001b[39m 1.1.3     \u001b[32m✔\u001b[39m \u001b[34mstringr\u001b[39m 1.4.0\n",
      "\u001b[32m✔\u001b[39m \u001b[34mreadr  \u001b[39m 2.0.2     \u001b[32m✔\u001b[39m \u001b[34mforcats\u001b[39m 0.5.1\n",
      "\n",
      "── \u001b[1mConflicts\u001b[22m ────────────────────────────────────────── tidyverse_conflicts() ──\n",
      "\u001b[31m✖\u001b[39m \u001b[34mdplyr\u001b[39m::\u001b[32mfilter()\u001b[39m masks \u001b[34mstats\u001b[39m::filter()\n",
      "\u001b[31m✖\u001b[39m \u001b[34mdplyr\u001b[39m::\u001b[32mlag()\u001b[39m    masks \u001b[34mstats\u001b[39m::lag()\n",
      "\n"
     ]
    }
   ],
   "source": [
    "library('tidyverse')\n",
    "library('nycflights13')"
   ]
  },
  {
   "cell_type": "markdown",
   "metadata": {},
   "source": [
    "The `flights` table has quite a few rows... better to use a tibble to handle this table than a data frame."
   ]
  },
  {
   "cell_type": "code",
   "execution_count": 3,
   "metadata": {},
   "outputs": [
    {
     "data": {
      "text/html": [
       "336776"
      ],
      "text/latex": [
       "336776"
      ],
      "text/markdown": [
       "336776"
      ],
      "text/plain": [
       "[1] 336776"
      ]
     },
     "metadata": {},
     "output_type": "display_data"
    },
    {
     "data": {
      "text/html": [
       "<style>\n",
       ".list-inline {list-style: none; margin:0; padding: 0}\n",
       ".list-inline>li {display: inline-block}\n",
       ".list-inline>li:not(:last-child)::after {content: \"\\00b7\"; padding: 0 .5ex}\n",
       "</style>\n",
       "<ol class=list-inline><li>336776</li><li>19</li></ol>\n"
      ],
      "text/latex": [
       "\\begin{enumerate*}\n",
       "\\item 336776\n",
       "\\item 19\n",
       "\\end{enumerate*}\n"
      ],
      "text/markdown": [
       "1. 336776\n",
       "2. 19\n",
       "\n",
       "\n"
      ],
      "text/plain": [
       "[1] 336776     19"
      ]
     },
     "metadata": {},
     "output_type": "display_data"
    }
   ],
   "source": [
    "# uncomment the next line and run this cell.\n",
    "\n",
    "nrow(flights)\n",
    "\n",
    "dim(flights)"
   ]
  },
  {
   "cell_type": "markdown",
   "metadata": {},
   "source": [
    "Convert the `flights` data frame to a tibble and use print the preview the first ten rows. (*Hint: you have to import* `tidyverse` *first*)."
   ]
  },
  {
   "cell_type": "code",
   "execution_count": 5,
   "metadata": {},
   "outputs": [
    {
     "name": "stdout",
     "output_type": "stream",
     "text": [
      "\u001b[90m# A tibble: 336,776 × 19\u001b[39m\n",
      "    year month   day dep_time sched_dep_time dep_delay arr_time sched_arr_time\n",
      "   \u001b[3m\u001b[90m<int>\u001b[39m\u001b[23m \u001b[3m\u001b[90m<int>\u001b[39m\u001b[23m \u001b[3m\u001b[90m<int>\u001b[39m\u001b[23m    \u001b[3m\u001b[90m<int>\u001b[39m\u001b[23m          \u001b[3m\u001b[90m<int>\u001b[39m\u001b[23m     \u001b[3m\u001b[90m<dbl>\u001b[39m\u001b[23m    \u001b[3m\u001b[90m<int>\u001b[39m\u001b[23m          \u001b[3m\u001b[90m<int>\u001b[39m\u001b[23m\n",
      "\u001b[90m 1\u001b[39m  \u001b[4m2\u001b[24m013     1     1      517            515         2      830            819\n",
      "\u001b[90m 2\u001b[39m  \u001b[4m2\u001b[24m013     1     1      533            529         4      850            830\n",
      "\u001b[90m 3\u001b[39m  \u001b[4m2\u001b[24m013     1     1      542            540         2      923            850\n",
      "\u001b[90m 4\u001b[39m  \u001b[4m2\u001b[24m013     1     1      544            545        -\u001b[31m1\u001b[39m     \u001b[4m1\u001b[24m004           \u001b[4m1\u001b[24m022\n",
      "\u001b[90m 5\u001b[39m  \u001b[4m2\u001b[24m013     1     1      554            600        -\u001b[31m6\u001b[39m      812            837\n",
      "\u001b[90m 6\u001b[39m  \u001b[4m2\u001b[24m013     1     1      554            558        -\u001b[31m4\u001b[39m      740            728\n",
      "\u001b[90m 7\u001b[39m  \u001b[4m2\u001b[24m013     1     1      555            600        -\u001b[31m5\u001b[39m      913            854\n",
      "\u001b[90m 8\u001b[39m  \u001b[4m2\u001b[24m013     1     1      557            600        -\u001b[31m3\u001b[39m      709            723\n",
      "\u001b[90m 9\u001b[39m  \u001b[4m2\u001b[24m013     1     1      557            600        -\u001b[31m3\u001b[39m      838            846\n",
      "\u001b[90m10\u001b[39m  \u001b[4m2\u001b[24m013     1     1      558            600        -\u001b[31m2\u001b[39m      753            745\n",
      "\u001b[90m# … with 336,766 more rows, and 11 more variables: arr_delay <dbl>,\u001b[39m\n",
      "\u001b[90m#   carrier <chr>, flight <int>, tailnum <chr>, origin <chr>, dest <chr>,\u001b[39m\n",
      "\u001b[90m#   air_time <dbl>, distance <dbl>, hour <dbl>, minute <dbl>, time_hour <dttm>\u001b[39m\n"
     ]
    }
   ],
   "source": [
    "flights.tibble = flights %>% as_tibble\n",
    "\n",
    "flights.tibble %>% print"
   ]
  },
  {
   "cell_type": "markdown",
   "metadata": {},
   "source": [
    "How many columns are there in the `flights` table?"
   ]
  },
  {
   "cell_type": "code",
   "execution_count": 8,
   "metadata": {},
   "outputs": [
    {
     "data": {
      "text/html": [
       "19"
      ],
      "text/latex": [
       "19"
      ],
      "text/markdown": [
       "19"
      ],
      "text/plain": [
       "[1] 19"
      ]
     },
     "metadata": {},
     "output_type": "display_data"
    }
   ],
   "source": [
    "flights %>% ncol # 19"
   ]
  },
  {
   "cell_type": "markdown",
   "metadata": {},
   "source": [
    "### Bonus"
   ]
  },
  {
   "cell_type": "markdown",
   "metadata": {},
   "source": [
    "Read in the marathon data set as a tibble and preview the table using `print`."
   ]
  },
  {
   "cell_type": "code",
   "execution_count": 10,
   "metadata": {},
   "outputs": [
    {
     "data": {
      "text/html": [
       "<table class=\"dataframe\">\n",
       "<caption>A tibble: 171 × 7</caption>\n",
       "<thead>\n",
       "\t<tr><th scope=col>year</th><th scope=col>name</th><th scope=col>country</th><th scope=col>time</th><th scope=col>race.time</th><th scope=col>MF</th><th scope=col>country.simple</th></tr>\n",
       "\t<tr><th scope=col>&lt;dbl&gt;</th><th scope=col>&lt;chr&gt;</th><th scope=col>&lt;chr&gt;</th><th scope=col>&lt;chr&gt;</th><th scope=col>&lt;dbl&gt;</th><th scope=col>&lt;chr&gt;</th><th scope=col>&lt;chr&gt;</th></tr>\n",
       "</thead>\n",
       "<tbody>\n",
       "\t<tr><td>2019</td><td>Lawrence Cherono          </td><td>Kenya        </td><td>2H 7M 57S </td><td>2.132500</td><td>Men's</td><td>Kenya        </td></tr>\n",
       "\t<tr><td>2018</td><td>Yuki Kawauchi             </td><td>Japan        </td><td>2H 15M 58S</td><td>2.266111</td><td>Men's</td><td>Japan        </td></tr>\n",
       "\t<tr><td>2017</td><td>Geoffrey Kirui            </td><td>Kenya        </td><td>2H 9M 37S </td><td>2.160278</td><td>Men's</td><td>Kenya        </td></tr>\n",
       "\t<tr><td>2016</td><td>Lemi Berhanu              </td><td>Ethiopia     </td><td>2H 12M 45S</td><td>2.212500</td><td>Men's</td><td>Ethiopia     </td></tr>\n",
       "\t<tr><td>2015</td><td>Lelisa Desisa             </td><td>Ethiopia     </td><td>2H 9M 17S </td><td>2.154722</td><td>Men's</td><td>Ethiopia     </td></tr>\n",
       "\t<tr><td>2014</td><td>Mebrahtom \"Meb\" Keflezighi</td><td>United States</td><td>2H 8M 37S </td><td>2.143611</td><td>Men's</td><td>United States</td></tr>\n",
       "\t<tr><td>2013</td><td>Lelisa Desisa             </td><td>Ethiopia     </td><td>2H 10M 22S</td><td>2.172778</td><td>Men's</td><td>Ethiopia     </td></tr>\n",
       "\t<tr><td>2012</td><td>Wesley Korir              </td><td>Kenya        </td><td>2H 12M 40S</td><td>2.211111</td><td>Men's</td><td>Kenya        </td></tr>\n",
       "\t<tr><td>2011</td><td>Geoffrey Mutai            </td><td>Kenya        </td><td>2H 3M 2S  </td><td>2.050556</td><td>Men's</td><td>Kenya        </td></tr>\n",
       "\t<tr><td>2010</td><td>Robert Kiprono Cheruiyot  </td><td>Kenya        </td><td>2H 5M 52S </td><td>2.097778</td><td>Men's</td><td>Kenya        </td></tr>\n",
       "\t<tr><td>2009</td><td>Deriba Merga              </td><td>Ethiopia     </td><td>2H 8M 42S </td><td>2.145000</td><td>Men's</td><td>Ethiopia     </td></tr>\n",
       "\t<tr><td>2008</td><td>Robert Kipkoech Cheruiyot </td><td>Kenya        </td><td>2H 7M 46S </td><td>2.129444</td><td>Men's</td><td>Kenya        </td></tr>\n",
       "\t<tr><td>2007</td><td>Robert Kipkoech Cheruiyot </td><td>Kenya        </td><td>2H 14M 13S</td><td>2.236944</td><td>Men's</td><td>Kenya        </td></tr>\n",
       "\t<tr><td>2006</td><td>Robert Kipkoech Cheruiyot </td><td>Kenya        </td><td>2H 7M 14S </td><td>2.120556</td><td>Men's</td><td>Kenya        </td></tr>\n",
       "\t<tr><td>2005</td><td>Hailu Negussie            </td><td>Ethiopia     </td><td>2H 11M 45S</td><td>2.195833</td><td>Men's</td><td>Ethiopia     </td></tr>\n",
       "\t<tr><td>2004</td><td>Timothy Cherigat          </td><td>Kenya        </td><td>2H 10M 37S</td><td>2.176944</td><td>Men's</td><td>Kenya        </td></tr>\n",
       "\t<tr><td>2003</td><td>Robert Kipkoech Cheruiyot </td><td>Kenya        </td><td>2H 10M 11S</td><td>2.169722</td><td>Men's</td><td>Kenya        </td></tr>\n",
       "\t<tr><td>2002</td><td>Rodgers Rop               </td><td>Kenya        </td><td>2H 9M 2S  </td><td>2.150556</td><td>Men's</td><td>Kenya        </td></tr>\n",
       "\t<tr><td>2001</td><td>Lee Bong-Ju               </td><td>South Korea  </td><td>2H 9M 43S </td><td>2.161944</td><td>Men's</td><td>other        </td></tr>\n",
       "\t<tr><td>2000</td><td>Elijah Lagat              </td><td>Kenya        </td><td>2H 9M 47S </td><td>2.163056</td><td>Men's</td><td>Kenya        </td></tr>\n",
       "\t<tr><td>1999</td><td>Joseph Chebet             </td><td>Kenya        </td><td>2H 9M 52S </td><td>2.164444</td><td>Men's</td><td>Kenya        </td></tr>\n",
       "\t<tr><td>1998</td><td>Moses Tanui               </td><td>Kenya        </td><td>2H 7M 34S </td><td>2.126111</td><td>Men's</td><td>Kenya        </td></tr>\n",
       "\t<tr><td>1997</td><td>Lameck Aguta              </td><td>Kenya        </td><td>2H 10M 34S</td><td>2.176111</td><td>Men's</td><td>Kenya        </td></tr>\n",
       "\t<tr><td>1996</td><td>Moses Tanui               </td><td>Kenya        </td><td>2H 9M 15S </td><td>2.154167</td><td>Men's</td><td>Kenya        </td></tr>\n",
       "\t<tr><td>1995</td><td>Cosmas Ndeti              </td><td>Kenya        </td><td>2H 9M 22S </td><td>2.156111</td><td>Men's</td><td>Kenya        </td></tr>\n",
       "\t<tr><td>1994</td><td>Cosmas Ndeti              </td><td>Kenya        </td><td>2H 7M 15S </td><td>2.120833</td><td>Men's</td><td>Kenya        </td></tr>\n",
       "\t<tr><td>1993</td><td>Cosmas Ndeti              </td><td>Kenya        </td><td>2H 9M 33S </td><td>2.159167</td><td>Men's</td><td>Kenya        </td></tr>\n",
       "\t<tr><td>1992</td><td>Ibrahim Hussein           </td><td>Kenya        </td><td>2H 8M 14S </td><td>2.137222</td><td>Men's</td><td>Kenya        </td></tr>\n",
       "\t<tr><td>1991</td><td>Ibrahim Hussein           </td><td>Kenya        </td><td>2H 11M 6S </td><td>2.185000</td><td>Men's</td><td>Kenya        </td></tr>\n",
       "\t<tr><td>1990</td><td>Gelindo Bordin            </td><td>Italy        </td><td>2H 8M 19S </td><td>2.138611</td><td>Men's</td><td>other        </td></tr>\n",
       "\t<tr><td>⋮</td><td>⋮</td><td>⋮</td><td>⋮</td><td>⋮</td><td>⋮</td><td>⋮</td></tr>\n",
       "\t<tr><td>2001</td><td>Catherine Ndereba     </td><td>Kenya            </td><td>2H 23M 53S</td><td>2.398056</td><td>Women's</td><td>Kenya        </td></tr>\n",
       "\t<tr><td>2000</td><td>Catherine Ndereba     </td><td>Kenya            </td><td>2H 26M 11S</td><td>2.436389</td><td>Women's</td><td>Kenya        </td></tr>\n",
       "\t<tr><td>1999</td><td>Fatuma Roba           </td><td>Ethiopia         </td><td>2H 23M 25S</td><td>2.390278</td><td>Women's</td><td>Ethiopia     </td></tr>\n",
       "\t<tr><td>1998</td><td>Fatuma Roba           </td><td>Ethiopia         </td><td>2H 23M 21S</td><td>2.389167</td><td>Women's</td><td>Ethiopia     </td></tr>\n",
       "\t<tr><td>1997</td><td>Fatuma Roba           </td><td>Ethiopia         </td><td>2H 26M 23S</td><td>2.439722</td><td>Women's</td><td>Ethiopia     </td></tr>\n",
       "\t<tr><td>1996</td><td>Uta Pippig            </td><td>Germany          </td><td>2H 27M 12S</td><td>2.453333</td><td>Women's</td><td>other        </td></tr>\n",
       "\t<tr><td>1995</td><td>Uta Pippig            </td><td>Germany          </td><td>2H 25M 11S</td><td>2.419722</td><td>Women's</td><td>other        </td></tr>\n",
       "\t<tr><td>1994</td><td>Uta Pippig            </td><td>Germany          </td><td>2H 21M 45S</td><td>2.362500</td><td>Women's</td><td>other        </td></tr>\n",
       "\t<tr><td>1993</td><td>Olga Markova          </td><td>Russia           </td><td>2H 25M 27S</td><td>2.424167</td><td>Women's</td><td>other        </td></tr>\n",
       "\t<tr><td>1992</td><td>Olga Markova          </td><td>Comm. Ind. States</td><td>2H 23M 43S</td><td>2.395278</td><td>Women's</td><td>other        </td></tr>\n",
       "\t<tr><td>1991</td><td>Wanda Panfil          </td><td>Poland           </td><td>2H 24M 18S</td><td>2.405000</td><td>Women's</td><td>other        </td></tr>\n",
       "\t<tr><td>1990</td><td>Rosa Mota             </td><td>Portugal         </td><td>2H 25M 24S</td><td>2.423333</td><td>Women's</td><td>other        </td></tr>\n",
       "\t<tr><td>1989</td><td>Ingrid Kristiansen    </td><td>Norway           </td><td>2H 24M 33S</td><td>2.409167</td><td>Women's</td><td>other        </td></tr>\n",
       "\t<tr><td>1988</td><td>Rosa Mota             </td><td>Portugal         </td><td>2H 24M 30S</td><td>2.408333</td><td>Women's</td><td>other        </td></tr>\n",
       "\t<tr><td>1987</td><td>Rosa Mota             </td><td>Portugal         </td><td>2H 25M 21S</td><td>2.422500</td><td>Women's</td><td>other        </td></tr>\n",
       "\t<tr><td>1986</td><td>Ingrid Kristiansen    </td><td>Norway           </td><td>2H 24M 55S</td><td>2.415278</td><td>Women's</td><td>other        </td></tr>\n",
       "\t<tr><td>1985</td><td>Lisa Larsen-Weidenbach</td><td>United States    </td><td>2H 34M 6S </td><td>2.568333</td><td>Women's</td><td>United States</td></tr>\n",
       "\t<tr><td>1984</td><td>Lorraine Moller       </td><td>New Zealand      </td><td>2H 29M 28S</td><td>2.491111</td><td>Women's</td><td>other        </td></tr>\n",
       "\t<tr><td>1983</td><td>Joan Benoit           </td><td>United States    </td><td>2H 22M 43S</td><td>2.378611</td><td>Women's</td><td>United States</td></tr>\n",
       "\t<tr><td>1982</td><td>Charlotte Teske       </td><td>Germany          </td><td>2H 29M 33S</td><td>2.492500</td><td>Women's</td><td>other        </td></tr>\n",
       "\t<tr><td>1981</td><td>Allison Roe           </td><td>New Zealand      </td><td>2H 26M 46S</td><td>2.446111</td><td>Women's</td><td>other        </td></tr>\n",
       "\t<tr><td>1980</td><td>Jacqueline Gareau     </td><td>Canada           </td><td>2H 34M 28S</td><td>2.574444</td><td>Women's</td><td>other        </td></tr>\n",
       "\t<tr><td>1979</td><td>Joan Benoit           </td><td>United States    </td><td>2H 35M 15S</td><td>2.587500</td><td>Women's</td><td>United States</td></tr>\n",
       "\t<tr><td>1978</td><td>Gayle S. Barron       </td><td>United States    </td><td>2H 44M 52S</td><td>2.747778</td><td>Women's</td><td>United States</td></tr>\n",
       "\t<tr><td>1977</td><td>Michiko (Miki) Gorman </td><td>United States    </td><td>2H 48M 33S</td><td>2.809167</td><td>Women's</td><td>United States</td></tr>\n",
       "\t<tr><td>1976</td><td>Kim Merritt           </td><td>United States    </td><td>2H 47M 10S</td><td>2.786111</td><td>Women's</td><td>United States</td></tr>\n",
       "\t<tr><td>1975</td><td>Liane Winter          </td><td>Germany          </td><td>2H 42M 24S</td><td>2.706667</td><td>Women's</td><td>other        </td></tr>\n",
       "\t<tr><td>1974</td><td>Michiko (Miki) Gorman </td><td>United States    </td><td>2H 47M 11S</td><td>2.786389</td><td>Women's</td><td>United States</td></tr>\n",
       "\t<tr><td>1973</td><td>Jacqueline A. Hansen  </td><td>United States    </td><td>3H 5M 59S </td><td>3.099722</td><td>Women's</td><td>United States</td></tr>\n",
       "\t<tr><td>1972</td><td>Nina Kuscsik          </td><td>United States    </td><td>3H 10M 26S</td><td>3.173889</td><td>Women's</td><td>United States</td></tr>\n",
       "</tbody>\n",
       "</table>\n"
      ],
      "text/latex": [
       "A tibble: 171 × 7\n",
       "\\begin{tabular}{lllllll}\n",
       " year & name & country & time & race.time & MF & country.simple\\\\\n",
       " <dbl> & <chr> & <chr> & <chr> & <dbl> & <chr> & <chr>\\\\\n",
       "\\hline\n",
       "\t 2019 & Lawrence Cherono           & Kenya         & 2H 7M 57S  & 2.132500 & Men's & Kenya        \\\\\n",
       "\t 2018 & Yuki Kawauchi              & Japan         & 2H 15M 58S & 2.266111 & Men's & Japan        \\\\\n",
       "\t 2017 & Geoffrey Kirui             & Kenya         & 2H 9M 37S  & 2.160278 & Men's & Kenya        \\\\\n",
       "\t 2016 & Lemi Berhanu               & Ethiopia      & 2H 12M 45S & 2.212500 & Men's & Ethiopia     \\\\\n",
       "\t 2015 & Lelisa Desisa              & Ethiopia      & 2H 9M 17S  & 2.154722 & Men's & Ethiopia     \\\\\n",
       "\t 2014 & Mebrahtom \"Meb\" Keflezighi & United States & 2H 8M 37S  & 2.143611 & Men's & United States\\\\\n",
       "\t 2013 & Lelisa Desisa              & Ethiopia      & 2H 10M 22S & 2.172778 & Men's & Ethiopia     \\\\\n",
       "\t 2012 & Wesley Korir               & Kenya         & 2H 12M 40S & 2.211111 & Men's & Kenya        \\\\\n",
       "\t 2011 & Geoffrey Mutai             & Kenya         & 2H 3M 2S   & 2.050556 & Men's & Kenya        \\\\\n",
       "\t 2010 & Robert Kiprono Cheruiyot   & Kenya         & 2H 5M 52S  & 2.097778 & Men's & Kenya        \\\\\n",
       "\t 2009 & Deriba Merga               & Ethiopia      & 2H 8M 42S  & 2.145000 & Men's & Ethiopia     \\\\\n",
       "\t 2008 & Robert Kipkoech Cheruiyot  & Kenya         & 2H 7M 46S  & 2.129444 & Men's & Kenya        \\\\\n",
       "\t 2007 & Robert Kipkoech Cheruiyot  & Kenya         & 2H 14M 13S & 2.236944 & Men's & Kenya        \\\\\n",
       "\t 2006 & Robert Kipkoech Cheruiyot  & Kenya         & 2H 7M 14S  & 2.120556 & Men's & Kenya        \\\\\n",
       "\t 2005 & Hailu Negussie             & Ethiopia      & 2H 11M 45S & 2.195833 & Men's & Ethiopia     \\\\\n",
       "\t 2004 & Timothy Cherigat           & Kenya         & 2H 10M 37S & 2.176944 & Men's & Kenya        \\\\\n",
       "\t 2003 & Robert Kipkoech Cheruiyot  & Kenya         & 2H 10M 11S & 2.169722 & Men's & Kenya        \\\\\n",
       "\t 2002 & Rodgers Rop                & Kenya         & 2H 9M 2S   & 2.150556 & Men's & Kenya        \\\\\n",
       "\t 2001 & Lee Bong-Ju                & South Korea   & 2H 9M 43S  & 2.161944 & Men's & other        \\\\\n",
       "\t 2000 & Elijah Lagat               & Kenya         & 2H 9M 47S  & 2.163056 & Men's & Kenya        \\\\\n",
       "\t 1999 & Joseph Chebet              & Kenya         & 2H 9M 52S  & 2.164444 & Men's & Kenya        \\\\\n",
       "\t 1998 & Moses Tanui                & Kenya         & 2H 7M 34S  & 2.126111 & Men's & Kenya        \\\\\n",
       "\t 1997 & Lameck Aguta               & Kenya         & 2H 10M 34S & 2.176111 & Men's & Kenya        \\\\\n",
       "\t 1996 & Moses Tanui                & Kenya         & 2H 9M 15S  & 2.154167 & Men's & Kenya        \\\\\n",
       "\t 1995 & Cosmas Ndeti               & Kenya         & 2H 9M 22S  & 2.156111 & Men's & Kenya        \\\\\n",
       "\t 1994 & Cosmas Ndeti               & Kenya         & 2H 7M 15S  & 2.120833 & Men's & Kenya        \\\\\n",
       "\t 1993 & Cosmas Ndeti               & Kenya         & 2H 9M 33S  & 2.159167 & Men's & Kenya        \\\\\n",
       "\t 1992 & Ibrahim Hussein            & Kenya         & 2H 8M 14S  & 2.137222 & Men's & Kenya        \\\\\n",
       "\t 1991 & Ibrahim Hussein            & Kenya         & 2H 11M 6S  & 2.185000 & Men's & Kenya        \\\\\n",
       "\t 1990 & Gelindo Bordin             & Italy         & 2H 8M 19S  & 2.138611 & Men's & other        \\\\\n",
       "\t ⋮ & ⋮ & ⋮ & ⋮ & ⋮ & ⋮ & ⋮\\\\\n",
       "\t 2001 & Catherine Ndereba      & Kenya             & 2H 23M 53S & 2.398056 & Women's & Kenya        \\\\\n",
       "\t 2000 & Catherine Ndereba      & Kenya             & 2H 26M 11S & 2.436389 & Women's & Kenya        \\\\\n",
       "\t 1999 & Fatuma Roba            & Ethiopia          & 2H 23M 25S & 2.390278 & Women's & Ethiopia     \\\\\n",
       "\t 1998 & Fatuma Roba            & Ethiopia          & 2H 23M 21S & 2.389167 & Women's & Ethiopia     \\\\\n",
       "\t 1997 & Fatuma Roba            & Ethiopia          & 2H 26M 23S & 2.439722 & Women's & Ethiopia     \\\\\n",
       "\t 1996 & Uta Pippig             & Germany           & 2H 27M 12S & 2.453333 & Women's & other        \\\\\n",
       "\t 1995 & Uta Pippig             & Germany           & 2H 25M 11S & 2.419722 & Women's & other        \\\\\n",
       "\t 1994 & Uta Pippig             & Germany           & 2H 21M 45S & 2.362500 & Women's & other        \\\\\n",
       "\t 1993 & Olga Markova           & Russia            & 2H 25M 27S & 2.424167 & Women's & other        \\\\\n",
       "\t 1992 & Olga Markova           & Comm. Ind. States & 2H 23M 43S & 2.395278 & Women's & other        \\\\\n",
       "\t 1991 & Wanda Panfil           & Poland            & 2H 24M 18S & 2.405000 & Women's & other        \\\\\n",
       "\t 1990 & Rosa Mota              & Portugal          & 2H 25M 24S & 2.423333 & Women's & other        \\\\\n",
       "\t 1989 & Ingrid Kristiansen     & Norway            & 2H 24M 33S & 2.409167 & Women's & other        \\\\\n",
       "\t 1988 & Rosa Mota              & Portugal          & 2H 24M 30S & 2.408333 & Women's & other        \\\\\n",
       "\t 1987 & Rosa Mota              & Portugal          & 2H 25M 21S & 2.422500 & Women's & other        \\\\\n",
       "\t 1986 & Ingrid Kristiansen     & Norway            & 2H 24M 55S & 2.415278 & Women's & other        \\\\\n",
       "\t 1985 & Lisa Larsen-Weidenbach & United States     & 2H 34M 6S  & 2.568333 & Women's & United States\\\\\n",
       "\t 1984 & Lorraine Moller        & New Zealand       & 2H 29M 28S & 2.491111 & Women's & other        \\\\\n",
       "\t 1983 & Joan Benoit            & United States     & 2H 22M 43S & 2.378611 & Women's & United States\\\\\n",
       "\t 1982 & Charlotte Teske        & Germany           & 2H 29M 33S & 2.492500 & Women's & other        \\\\\n",
       "\t 1981 & Allison Roe            & New Zealand       & 2H 26M 46S & 2.446111 & Women's & other        \\\\\n",
       "\t 1980 & Jacqueline Gareau      & Canada            & 2H 34M 28S & 2.574444 & Women's & other        \\\\\n",
       "\t 1979 & Joan Benoit            & United States     & 2H 35M 15S & 2.587500 & Women's & United States\\\\\n",
       "\t 1978 & Gayle S. Barron        & United States     & 2H 44M 52S & 2.747778 & Women's & United States\\\\\n",
       "\t 1977 & Michiko (Miki) Gorman  & United States     & 2H 48M 33S & 2.809167 & Women's & United States\\\\\n",
       "\t 1976 & Kim Merritt            & United States     & 2H 47M 10S & 2.786111 & Women's & United States\\\\\n",
       "\t 1975 & Liane Winter           & Germany           & 2H 42M 24S & 2.706667 & Women's & other        \\\\\n",
       "\t 1974 & Michiko (Miki) Gorman  & United States     & 2H 47M 11S & 2.786389 & Women's & United States\\\\\n",
       "\t 1973 & Jacqueline A. Hansen   & United States     & 3H 5M 59S  & 3.099722 & Women's & United States\\\\\n",
       "\t 1972 & Nina Kuscsik           & United States     & 3H 10M 26S & 3.173889 & Women's & United States\\\\\n",
       "\\end{tabular}\n"
      ],
      "text/markdown": [
       "\n",
       "A tibble: 171 × 7\n",
       "\n",
       "| year &lt;dbl&gt; | name &lt;chr&gt; | country &lt;chr&gt; | time &lt;chr&gt; | race.time &lt;dbl&gt; | MF &lt;chr&gt; | country.simple &lt;chr&gt; |\n",
       "|---|---|---|---|---|---|---|\n",
       "| 2019 | Lawrence Cherono           | Kenya         | 2H 7M 57S  | 2.132500 | Men's | Kenya         |\n",
       "| 2018 | Yuki Kawauchi              | Japan         | 2H 15M 58S | 2.266111 | Men's | Japan         |\n",
       "| 2017 | Geoffrey Kirui             | Kenya         | 2H 9M 37S  | 2.160278 | Men's | Kenya         |\n",
       "| 2016 | Lemi Berhanu               | Ethiopia      | 2H 12M 45S | 2.212500 | Men's | Ethiopia      |\n",
       "| 2015 | Lelisa Desisa              | Ethiopia      | 2H 9M 17S  | 2.154722 | Men's | Ethiopia      |\n",
       "| 2014 | Mebrahtom \"Meb\" Keflezighi | United States | 2H 8M 37S  | 2.143611 | Men's | United States |\n",
       "| 2013 | Lelisa Desisa              | Ethiopia      | 2H 10M 22S | 2.172778 | Men's | Ethiopia      |\n",
       "| 2012 | Wesley Korir               | Kenya         | 2H 12M 40S | 2.211111 | Men's | Kenya         |\n",
       "| 2011 | Geoffrey Mutai             | Kenya         | 2H 3M 2S   | 2.050556 | Men's | Kenya         |\n",
       "| 2010 | Robert Kiprono Cheruiyot   | Kenya         | 2H 5M 52S  | 2.097778 | Men's | Kenya         |\n",
       "| 2009 | Deriba Merga               | Ethiopia      | 2H 8M 42S  | 2.145000 | Men's | Ethiopia      |\n",
       "| 2008 | Robert Kipkoech Cheruiyot  | Kenya         | 2H 7M 46S  | 2.129444 | Men's | Kenya         |\n",
       "| 2007 | Robert Kipkoech Cheruiyot  | Kenya         | 2H 14M 13S | 2.236944 | Men's | Kenya         |\n",
       "| 2006 | Robert Kipkoech Cheruiyot  | Kenya         | 2H 7M 14S  | 2.120556 | Men's | Kenya         |\n",
       "| 2005 | Hailu Negussie             | Ethiopia      | 2H 11M 45S | 2.195833 | Men's | Ethiopia      |\n",
       "| 2004 | Timothy Cherigat           | Kenya         | 2H 10M 37S | 2.176944 | Men's | Kenya         |\n",
       "| 2003 | Robert Kipkoech Cheruiyot  | Kenya         | 2H 10M 11S | 2.169722 | Men's | Kenya         |\n",
       "| 2002 | Rodgers Rop                | Kenya         | 2H 9M 2S   | 2.150556 | Men's | Kenya         |\n",
       "| 2001 | Lee Bong-Ju                | South Korea   | 2H 9M 43S  | 2.161944 | Men's | other         |\n",
       "| 2000 | Elijah Lagat               | Kenya         | 2H 9M 47S  | 2.163056 | Men's | Kenya         |\n",
       "| 1999 | Joseph Chebet              | Kenya         | 2H 9M 52S  | 2.164444 | Men's | Kenya         |\n",
       "| 1998 | Moses Tanui                | Kenya         | 2H 7M 34S  | 2.126111 | Men's | Kenya         |\n",
       "| 1997 | Lameck Aguta               | Kenya         | 2H 10M 34S | 2.176111 | Men's | Kenya         |\n",
       "| 1996 | Moses Tanui                | Kenya         | 2H 9M 15S  | 2.154167 | Men's | Kenya         |\n",
       "| 1995 | Cosmas Ndeti               | Kenya         | 2H 9M 22S  | 2.156111 | Men's | Kenya         |\n",
       "| 1994 | Cosmas Ndeti               | Kenya         | 2H 7M 15S  | 2.120833 | Men's | Kenya         |\n",
       "| 1993 | Cosmas Ndeti               | Kenya         | 2H 9M 33S  | 2.159167 | Men's | Kenya         |\n",
       "| 1992 | Ibrahim Hussein            | Kenya         | 2H 8M 14S  | 2.137222 | Men's | Kenya         |\n",
       "| 1991 | Ibrahim Hussein            | Kenya         | 2H 11M 6S  | 2.185000 | Men's | Kenya         |\n",
       "| 1990 | Gelindo Bordin             | Italy         | 2H 8M 19S  | 2.138611 | Men's | other         |\n",
       "| ⋮ | ⋮ | ⋮ | ⋮ | ⋮ | ⋮ | ⋮ |\n",
       "| 2001 | Catherine Ndereba      | Kenya             | 2H 23M 53S | 2.398056 | Women's | Kenya         |\n",
       "| 2000 | Catherine Ndereba      | Kenya             | 2H 26M 11S | 2.436389 | Women's | Kenya         |\n",
       "| 1999 | Fatuma Roba            | Ethiopia          | 2H 23M 25S | 2.390278 | Women's | Ethiopia      |\n",
       "| 1998 | Fatuma Roba            | Ethiopia          | 2H 23M 21S | 2.389167 | Women's | Ethiopia      |\n",
       "| 1997 | Fatuma Roba            | Ethiopia          | 2H 26M 23S | 2.439722 | Women's | Ethiopia      |\n",
       "| 1996 | Uta Pippig             | Germany           | 2H 27M 12S | 2.453333 | Women's | other         |\n",
       "| 1995 | Uta Pippig             | Germany           | 2H 25M 11S | 2.419722 | Women's | other         |\n",
       "| 1994 | Uta Pippig             | Germany           | 2H 21M 45S | 2.362500 | Women's | other         |\n",
       "| 1993 | Olga Markova           | Russia            | 2H 25M 27S | 2.424167 | Women's | other         |\n",
       "| 1992 | Olga Markova           | Comm. Ind. States | 2H 23M 43S | 2.395278 | Women's | other         |\n",
       "| 1991 | Wanda Panfil           | Poland            | 2H 24M 18S | 2.405000 | Women's | other         |\n",
       "| 1990 | Rosa Mota              | Portugal          | 2H 25M 24S | 2.423333 | Women's | other         |\n",
       "| 1989 | Ingrid Kristiansen     | Norway            | 2H 24M 33S | 2.409167 | Women's | other         |\n",
       "| 1988 | Rosa Mota              | Portugal          | 2H 24M 30S | 2.408333 | Women's | other         |\n",
       "| 1987 | Rosa Mota              | Portugal          | 2H 25M 21S | 2.422500 | Women's | other         |\n",
       "| 1986 | Ingrid Kristiansen     | Norway            | 2H 24M 55S | 2.415278 | Women's | other         |\n",
       "| 1985 | Lisa Larsen-Weidenbach | United States     | 2H 34M 6S  | 2.568333 | Women's | United States |\n",
       "| 1984 | Lorraine Moller        | New Zealand       | 2H 29M 28S | 2.491111 | Women's | other         |\n",
       "| 1983 | Joan Benoit            | United States     | 2H 22M 43S | 2.378611 | Women's | United States |\n",
       "| 1982 | Charlotte Teske        | Germany           | 2H 29M 33S | 2.492500 | Women's | other         |\n",
       "| 1981 | Allison Roe            | New Zealand       | 2H 26M 46S | 2.446111 | Women's | other         |\n",
       "| 1980 | Jacqueline Gareau      | Canada            | 2H 34M 28S | 2.574444 | Women's | other         |\n",
       "| 1979 | Joan Benoit            | United States     | 2H 35M 15S | 2.587500 | Women's | United States |\n",
       "| 1978 | Gayle S. Barron        | United States     | 2H 44M 52S | 2.747778 | Women's | United States |\n",
       "| 1977 | Michiko (Miki) Gorman  | United States     | 2H 48M 33S | 2.809167 | Women's | United States |\n",
       "| 1976 | Kim Merritt            | United States     | 2H 47M 10S | 2.786111 | Women's | United States |\n",
       "| 1975 | Liane Winter           | Germany           | 2H 42M 24S | 2.706667 | Women's | other         |\n",
       "| 1974 | Michiko (Miki) Gorman  | United States     | 2H 47M 11S | 2.786389 | Women's | United States |\n",
       "| 1973 | Jacqueline A. Hansen   | United States     | 3H 5M 59S  | 3.099722 | Women's | United States |\n",
       "| 1972 | Nina Kuscsik           | United States     | 3H 10M 26S | 3.173889 | Women's | United States |\n",
       "\n"
      ],
      "text/plain": [
       "    year name                       country           time       race.time\n",
       "1   2019 Lawrence Cherono           Kenya             2H 7M 57S  2.132500 \n",
       "2   2018 Yuki Kawauchi              Japan             2H 15M 58S 2.266111 \n",
       "3   2017 Geoffrey Kirui             Kenya             2H 9M 37S  2.160278 \n",
       "4   2016 Lemi Berhanu               Ethiopia          2H 12M 45S 2.212500 \n",
       "5   2015 Lelisa Desisa              Ethiopia          2H 9M 17S  2.154722 \n",
       "6   2014 Mebrahtom \"Meb\" Keflezighi United States     2H 8M 37S  2.143611 \n",
       "7   2013 Lelisa Desisa              Ethiopia          2H 10M 22S 2.172778 \n",
       "8   2012 Wesley Korir               Kenya             2H 12M 40S 2.211111 \n",
       "9   2011 Geoffrey Mutai             Kenya             2H 3M 2S   2.050556 \n",
       "10  2010 Robert Kiprono Cheruiyot   Kenya             2H 5M 52S  2.097778 \n",
       "11  2009 Deriba Merga               Ethiopia          2H 8M 42S  2.145000 \n",
       "12  2008 Robert Kipkoech Cheruiyot  Kenya             2H 7M 46S  2.129444 \n",
       "13  2007 Robert Kipkoech Cheruiyot  Kenya             2H 14M 13S 2.236944 \n",
       "14  2006 Robert Kipkoech Cheruiyot  Kenya             2H 7M 14S  2.120556 \n",
       "15  2005 Hailu Negussie             Ethiopia          2H 11M 45S 2.195833 \n",
       "16  2004 Timothy Cherigat           Kenya             2H 10M 37S 2.176944 \n",
       "17  2003 Robert Kipkoech Cheruiyot  Kenya             2H 10M 11S 2.169722 \n",
       "18  2002 Rodgers Rop                Kenya             2H 9M 2S   2.150556 \n",
       "19  2001 Lee Bong-Ju                South Korea       2H 9M 43S  2.161944 \n",
       "20  2000 Elijah Lagat               Kenya             2H 9M 47S  2.163056 \n",
       "21  1999 Joseph Chebet              Kenya             2H 9M 52S  2.164444 \n",
       "22  1998 Moses Tanui                Kenya             2H 7M 34S  2.126111 \n",
       "23  1997 Lameck Aguta               Kenya             2H 10M 34S 2.176111 \n",
       "24  1996 Moses Tanui                Kenya             2H 9M 15S  2.154167 \n",
       "25  1995 Cosmas Ndeti               Kenya             2H 9M 22S  2.156111 \n",
       "26  1994 Cosmas Ndeti               Kenya             2H 7M 15S  2.120833 \n",
       "27  1993 Cosmas Ndeti               Kenya             2H 9M 33S  2.159167 \n",
       "28  1992 Ibrahim Hussein            Kenya             2H 8M 14S  2.137222 \n",
       "29  1991 Ibrahim Hussein            Kenya             2H 11M 6S  2.185000 \n",
       "30  1990 Gelindo Bordin             Italy             2H 8M 19S  2.138611 \n",
       "⋮   ⋮    ⋮                          ⋮                 ⋮          ⋮        \n",
       "142 2001 Catherine Ndereba          Kenya             2H 23M 53S 2.398056 \n",
       "143 2000 Catherine Ndereba          Kenya             2H 26M 11S 2.436389 \n",
       "144 1999 Fatuma Roba                Ethiopia          2H 23M 25S 2.390278 \n",
       "145 1998 Fatuma Roba                Ethiopia          2H 23M 21S 2.389167 \n",
       "146 1997 Fatuma Roba                Ethiopia          2H 26M 23S 2.439722 \n",
       "147 1996 Uta Pippig                 Germany           2H 27M 12S 2.453333 \n",
       "148 1995 Uta Pippig                 Germany           2H 25M 11S 2.419722 \n",
       "149 1994 Uta Pippig                 Germany           2H 21M 45S 2.362500 \n",
       "150 1993 Olga Markova               Russia            2H 25M 27S 2.424167 \n",
       "151 1992 Olga Markova               Comm. Ind. States 2H 23M 43S 2.395278 \n",
       "152 1991 Wanda Panfil               Poland            2H 24M 18S 2.405000 \n",
       "153 1990 Rosa Mota                  Portugal          2H 25M 24S 2.423333 \n",
       "154 1989 Ingrid Kristiansen         Norway            2H 24M 33S 2.409167 \n",
       "155 1988 Rosa Mota                  Portugal          2H 24M 30S 2.408333 \n",
       "156 1987 Rosa Mota                  Portugal          2H 25M 21S 2.422500 \n",
       "157 1986 Ingrid Kristiansen         Norway            2H 24M 55S 2.415278 \n",
       "158 1985 Lisa Larsen-Weidenbach     United States     2H 34M 6S  2.568333 \n",
       "159 1984 Lorraine Moller            New Zealand       2H 29M 28S 2.491111 \n",
       "160 1983 Joan Benoit                United States     2H 22M 43S 2.378611 \n",
       "161 1982 Charlotte Teske            Germany           2H 29M 33S 2.492500 \n",
       "162 1981 Allison Roe                New Zealand       2H 26M 46S 2.446111 \n",
       "163 1980 Jacqueline Gareau          Canada            2H 34M 28S 2.574444 \n",
       "164 1979 Joan Benoit                United States     2H 35M 15S 2.587500 \n",
       "165 1978 Gayle S. Barron            United States     2H 44M 52S 2.747778 \n",
       "166 1977 Michiko (Miki) Gorman      United States     2H 48M 33S 2.809167 \n",
       "167 1976 Kim Merritt                United States     2H 47M 10S 2.786111 \n",
       "168 1975 Liane Winter               Germany           2H 42M 24S 2.706667 \n",
       "169 1974 Michiko (Miki) Gorman      United States     2H 47M 11S 2.786389 \n",
       "170 1973 Jacqueline A. Hansen       United States     3H 5M 59S  3.099722 \n",
       "171 1972 Nina Kuscsik               United States     3H 10M 26S 3.173889 \n",
       "    MF      country.simple\n",
       "1   Men's   Kenya         \n",
       "2   Men's   Japan         \n",
       "3   Men's   Kenya         \n",
       "4   Men's   Ethiopia      \n",
       "5   Men's   Ethiopia      \n",
       "6   Men's   United States \n",
       "7   Men's   Ethiopia      \n",
       "8   Men's   Kenya         \n",
       "9   Men's   Kenya         \n",
       "10  Men's   Kenya         \n",
       "11  Men's   Ethiopia      \n",
       "12  Men's   Kenya         \n",
       "13  Men's   Kenya         \n",
       "14  Men's   Kenya         \n",
       "15  Men's   Ethiopia      \n",
       "16  Men's   Kenya         \n",
       "17  Men's   Kenya         \n",
       "18  Men's   Kenya         \n",
       "19  Men's   other         \n",
       "20  Men's   Kenya         \n",
       "21  Men's   Kenya         \n",
       "22  Men's   Kenya         \n",
       "23  Men's   Kenya         \n",
       "24  Men's   Kenya         \n",
       "25  Men's   Kenya         \n",
       "26  Men's   Kenya         \n",
       "27  Men's   Kenya         \n",
       "28  Men's   Kenya         \n",
       "29  Men's   Kenya         \n",
       "30  Men's   other         \n",
       "⋮   ⋮       ⋮             \n",
       "142 Women's Kenya         \n",
       "143 Women's Kenya         \n",
       "144 Women's Ethiopia      \n",
       "145 Women's Ethiopia      \n",
       "146 Women's Ethiopia      \n",
       "147 Women's other         \n",
       "148 Women's other         \n",
       "149 Women's other         \n",
       "150 Women's other         \n",
       "151 Women's other         \n",
       "152 Women's other         \n",
       "153 Women's other         \n",
       "154 Women's other         \n",
       "155 Women's other         \n",
       "156 Women's other         \n",
       "157 Women's other         \n",
       "158 Women's United States \n",
       "159 Women's other         \n",
       "160 Women's United States \n",
       "161 Women's other         \n",
       "162 Women's other         \n",
       "163 Women's other         \n",
       "164 Women's United States \n",
       "165 Women's United States \n",
       "166 Women's United States \n",
       "167 Women's United States \n",
       "168 Women's other         \n",
       "169 Women's United States \n",
       "170 Women's United States \n",
       "171 Women's United States "
      ]
     },
     "metadata": {},
     "output_type": "display_data"
    }
   ],
   "source": [
    "read_csv('../data/marathon.csv', col_types = cols()) %>% as_tibble "
   ]
  }
 ],
 "metadata": {
  "kernelspec": {
   "display_name": "R",
   "language": "R",
   "name": "ir"
  },
  "language_info": {
   "codemirror_mode": "r",
   "file_extension": ".r",
   "mimetype": "text/x-r-source",
   "name": "R",
   "pygments_lexer": "r",
   "version": "4.0.5"
  }
 },
 "nbformat": 4,
 "nbformat_minor": 4
}
