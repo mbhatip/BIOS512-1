{
 "cells": [
  {
   "cell_type": "code",
   "execution_count": 3,
   "id": "c8eac801-ec4f-4eeb-a260-9eeca53488bf",
   "metadata": {},
   "outputs": [
    {
     "name": "stderr",
     "output_type": "stream",
     "text": [
      "── \u001b[1mAttaching packages\u001b[22m ─────────────────────────────────────── tidyverse 1.3.1 ──\n",
      "\n",
      "\u001b[32m✔\u001b[39m \u001b[34mggplot2\u001b[39m 3.3.5     \u001b[32m✔\u001b[39m \u001b[34mpurrr  \u001b[39m 0.3.4\n",
      "\u001b[32m✔\u001b[39m \u001b[34mtibble \u001b[39m 3.1.4     \u001b[32m✔\u001b[39m \u001b[34mdplyr  \u001b[39m 1.0.7\n",
      "\u001b[32m✔\u001b[39m \u001b[34mtidyr  \u001b[39m 1.1.3     \u001b[32m✔\u001b[39m \u001b[34mstringr\u001b[39m 1.4.0\n",
      "\u001b[32m✔\u001b[39m \u001b[34mreadr  \u001b[39m 2.0.2     \u001b[32m✔\u001b[39m \u001b[34mforcats\u001b[39m 0.5.1\n",
      "\n",
      "── \u001b[1mConflicts\u001b[22m ────────────────────────────────────────── tidyverse_conflicts() ──\n",
      "\u001b[31m✖\u001b[39m \u001b[34mdplyr\u001b[39m::\u001b[32mfilter()\u001b[39m masks \u001b[34mstats\u001b[39m::filter()\n",
      "\u001b[31m✖\u001b[39m \u001b[34mdplyr\u001b[39m::\u001b[32mlag()\u001b[39m    masks \u001b[34mstats\u001b[39m::lag()\n",
      "\n"
     ]
    }
   ],
   "source": [
    "library('tidyverse')\n",
    "library('readr')"
   ]
  },
  {
   "cell_type": "markdown",
   "id": "fa1dc93f-fd13-4eb0-b91c-e3420cffc5ef",
   "metadata": {},
   "source": [
    "Save the `iris` data set as a `CSV` using `write_csv`."
   ]
  },
  {
   "cell_type": "code",
   "execution_count": 4,
   "id": "57c14c43-b211-4a75-b3ce-29b992eddac5",
   "metadata": {},
   "outputs": [],
   "source": [
    "write_csv(iris, 'iris.csv')"
   ]
  },
  {
   "cell_type": "markdown",
   "id": "e01f0683-9ba5-474c-89f5-9e6840224ac0",
   "metadata": {},
   "source": [
    "Double click on the file you just created (you should see it in the file browser). "
   ]
  },
  {
   "cell_type": "markdown",
   "id": "8431214c-1cfe-44bf-99bd-68d7a8b70b00",
   "metadata": {},
   "source": [
    "Does it look like what you'd expect?"
   ]
  },
  {
   "cell_type": "markdown",
   "id": "222b5b34-a16b-447a-8c14-735d61566674",
   "metadata": {},
   "source": [
    "Download the `CSV` file and upload it to your BIOS512 Git repo on GitHub. \n",
    "- Does GitHub recognize the file content and render it nicely for you? \n",
    "- What does the \"raw\" file look like?"
   ]
  },
  {
   "cell_type": "markdown",
   "id": "dba7cf69-c508-4f29-beb1-8ae72387b5b7",
   "metadata": {},
   "source": [
    "Import the file you uploaded to GitHub using `read_csv`."
   ]
  },
  {
   "cell_type": "code",
   "execution_count": null,
   "id": "fa4e0e85-e5f0-401a-9251-936936feb407",
   "metadata": {},
   "outputs": [],
   "source": []
  }
 ],
 "metadata": {
  "kernelspec": {
   "display_name": "R",
   "language": "R",
   "name": "ir"
  },
  "language_info": {
   "codemirror_mode": "r",
   "file_extension": ".r",
   "mimetype": "text/x-r-source",
   "name": "R",
   "pygments_lexer": "r",
   "version": "4.0.5"
  }
 },
 "nbformat": 4,
 "nbformat_minor": 5
}
