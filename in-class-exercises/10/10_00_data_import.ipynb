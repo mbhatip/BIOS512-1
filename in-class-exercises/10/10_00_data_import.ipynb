{
 "cells": [
  {
   "cell_type": "markdown",
   "metadata": {},
   "source": [
    "Import the 🦸🏾‍♀️\"Avengers\"🦹🏻 data from the [FiveThirtyEight data repository on GitHub](https://github.com/fivethirtyeight/data/blob/master/avengers/avengers.csv)."
   ]
  },
  {
   "cell_type": "code",
   "execution_count": 1,
   "metadata": {},
   "outputs": [
    {
     "name": "stderr",
     "output_type": "stream",
     "text": [
      "── \u001b[1mAttaching packages\u001b[22m ─────────────────────────────────────── tidyverse 1.3.1 ──\n",
      "\n",
      "\u001b[32m✔\u001b[39m \u001b[34mggplot2\u001b[39m 3.3.5     \u001b[32m✔\u001b[39m \u001b[34mpurrr  \u001b[39m 0.3.4\n",
      "\u001b[32m✔\u001b[39m \u001b[34mtibble \u001b[39m 3.1.4     \u001b[32m✔\u001b[39m \u001b[34mdplyr  \u001b[39m 1.0.7\n",
      "\u001b[32m✔\u001b[39m \u001b[34mtidyr  \u001b[39m 1.1.3     \u001b[32m✔\u001b[39m \u001b[34mstringr\u001b[39m 1.4.0\n",
      "\u001b[32m✔\u001b[39m \u001b[34mreadr  \u001b[39m 2.0.2     \u001b[32m✔\u001b[39m \u001b[34mforcats\u001b[39m 0.5.1\n",
      "\n",
      "── \u001b[1mConflicts\u001b[22m ────────────────────────────────────────── tidyverse_conflicts() ──\n",
      "\u001b[31m✖\u001b[39m \u001b[34mdplyr\u001b[39m::\u001b[32mfilter()\u001b[39m masks \u001b[34mstats\u001b[39m::filter()\n",
      "\u001b[31m✖\u001b[39m \u001b[34mdplyr\u001b[39m::\u001b[32mlag()\u001b[39m    masks \u001b[34mstats\u001b[39m::lag()\n",
      "\n"
     ]
    }
   ],
   "source": [
    "library('tidyverse')\n",
    "library('readr')"
   ]
  },
  {
   "cell_type": "code",
   "execution_count": 2,
   "metadata": {},
   "outputs": [
    {
     "data": {
      "text/plain": [
       "cols(\n",
       "  URL = \u001b[31mcol_character()\u001b[39m,\n",
       "  `Name/Alias` = \u001b[31mcol_character()\u001b[39m,\n",
       "  Appearances = \u001b[32mcol_double()\u001b[39m,\n",
       "  `Current?` = \u001b[31mcol_character()\u001b[39m,\n",
       "  Gender = \u001b[31mcol_character()\u001b[39m,\n",
       "  `Probationary Introl` = \u001b[31mcol_character()\u001b[39m,\n",
       "  `Full/Reserve Avengers Intro` = \u001b[31mcol_character()\u001b[39m,\n",
       "  Year = \u001b[32mcol_double()\u001b[39m,\n",
       "  `Years since joining` = \u001b[32mcol_double()\u001b[39m,\n",
       "  Honorary = \u001b[31mcol_character()\u001b[39m,\n",
       "  Death1 = \u001b[31mcol_character()\u001b[39m,\n",
       "  Return1 = \u001b[31mcol_character()\u001b[39m,\n",
       "  Death2 = \u001b[31mcol_character()\u001b[39m,\n",
       "  Return2 = \u001b[31mcol_character()\u001b[39m,\n",
       "  Death3 = \u001b[31mcol_character()\u001b[39m,\n",
       "  Return3 = \u001b[31mcol_character()\u001b[39m,\n",
       "  Death4 = \u001b[31mcol_character()\u001b[39m,\n",
       "  Return4 = \u001b[31mcol_character()\u001b[39m,\n",
       "  Death5 = \u001b[31mcol_character()\u001b[39m,\n",
       "  Return5 = \u001b[31mcol_character()\u001b[39m,\n",
       "  Notes = \u001b[31mcol_character()\u001b[39m\n",
       ")"
      ]
     },
     "metadata": {},
     "output_type": "display_data"
    },
    {
     "data": {
      "text/html": [
       "<table class=\"dataframe\">\n",
       "<caption>A tibble: 6 × 21</caption>\n",
       "<thead>\n",
       "\t<tr><th scope=col>URL</th><th scope=col>Name/Alias</th><th scope=col>Appearances</th><th scope=col>Current?</th><th scope=col>Gender</th><th scope=col>Probationary Introl</th><th scope=col>Full/Reserve Avengers Intro</th><th scope=col>Year</th><th scope=col>Years since joining</th><th scope=col>Honorary</th><th scope=col>⋯</th><th scope=col>Return1</th><th scope=col>Death2</th><th scope=col>Return2</th><th scope=col>Death3</th><th scope=col>Return3</th><th scope=col>Death4</th><th scope=col>Return4</th><th scope=col>Death5</th><th scope=col>Return5</th><th scope=col>Notes</th></tr>\n",
       "\t<tr><th scope=col>&lt;chr&gt;</th><th scope=col>&lt;chr&gt;</th><th scope=col>&lt;dbl&gt;</th><th scope=col>&lt;chr&gt;</th><th scope=col>&lt;chr&gt;</th><th scope=col>&lt;chr&gt;</th><th scope=col>&lt;chr&gt;</th><th scope=col>&lt;dbl&gt;</th><th scope=col>&lt;dbl&gt;</th><th scope=col>&lt;chr&gt;</th><th scope=col>⋯</th><th scope=col>&lt;chr&gt;</th><th scope=col>&lt;chr&gt;</th><th scope=col>&lt;chr&gt;</th><th scope=col>&lt;chr&gt;</th><th scope=col>&lt;chr&gt;</th><th scope=col>&lt;chr&gt;</th><th scope=col>&lt;chr&gt;</th><th scope=col>&lt;chr&gt;</th><th scope=col>&lt;chr&gt;</th><th scope=col>&lt;chr&gt;</th></tr>\n",
       "</thead>\n",
       "<tbody>\n",
       "\t<tr><td>http://marvel.wikia.com/Henry_Pym_(Earth-616)          </td><td>Henry Jonathan \"Hank\" Pym  </td><td>1269</td><td>YES</td><td>MALE  </td><td>NA</td><td>Sep-63</td><td>1963</td><td>52</td><td>Full    </td><td>⋯</td><td>NO </td><td>NA </td><td>NA</td><td>NA</td><td>NA</td><td>NA</td><td>NA</td><td>NA</td><td>NA</td><td>Merged with Ultron in Rage of Ultron Vol. 1. A funeral was held.                                                                                                                </td></tr>\n",
       "\t<tr><td>http://marvel.wikia.com/Janet_van_Dyne_(Earth-616)     </td><td>Janet van Dyne             </td><td>1165</td><td>YES</td><td>FEMALE</td><td>NA</td><td>Sep-63</td><td>1963</td><td>52</td><td>Full    </td><td>⋯</td><td>YES</td><td>NA </td><td>NA</td><td>NA</td><td>NA</td><td>NA</td><td>NA</td><td>NA</td><td>NA</td><td>Dies in Secret Invasion V1:I8. Actually was sent tto Microverse later recovered                                                                                                 </td></tr>\n",
       "\t<tr><td>http://marvel.wikia.com/Anthony_Stark_(Earth-616)      </td><td>Anthony Edward \"Tony\" Stark</td><td>3068</td><td>YES</td><td>MALE  </td><td>NA</td><td>Sep-63</td><td>1963</td><td>52</td><td>Full    </td><td>⋯</td><td>YES</td><td>NA </td><td>NA</td><td>NA</td><td>NA</td><td>NA</td><td>NA</td><td>NA</td><td>NA</td><td>Death: \"Later while under the influence of Immortus Stark committed a number of horrible acts and was killed.'  This set up young Tony. Franklin Richards later brought him back</td></tr>\n",
       "\t<tr><td>http://marvel.wikia.com/Robert_Bruce_Banner_(Earth-616)</td><td>Robert Bruce Banner        </td><td>2089</td><td>YES</td><td>MALE  </td><td>NA</td><td>Sep-63</td><td>1963</td><td>52</td><td>Full    </td><td>⋯</td><td>YES</td><td>NA </td><td>NA</td><td>NA</td><td>NA</td><td>NA</td><td>NA</td><td>NA</td><td>NA</td><td>Dies in Ghosts of the Future arc. However \"he had actually used a hidden Pantheon base to survive\"                                                                              </td></tr>\n",
       "\t<tr><td>http://marvel.wikia.com/Thor_Odinson_(Earth-616)       </td><td>Thor Odinson               </td><td>2402</td><td>YES</td><td>MALE  </td><td>NA</td><td>Sep-63</td><td>1963</td><td>52</td><td>Full    </td><td>⋯</td><td>YES</td><td>YES</td><td>NO</td><td>NA</td><td>NA</td><td>NA</td><td>NA</td><td>NA</td><td>NA</td><td>Dies in Fear Itself brought back because that's kind of the whole point. Second death in Time Runs Out has not yet returned                                                     </td></tr>\n",
       "\t<tr><td>http://marvel.wikia.com/Richard_Jones_(Earth-616)      </td><td>Richard Milhouse Jones     </td><td> 612</td><td>YES</td><td>MALE  </td><td>NA</td><td>Sep-63</td><td>1963</td><td>52</td><td>Honorary</td><td>⋯</td><td>NA </td><td>NA </td><td>NA</td><td>NA</td><td>NA</td><td>NA</td><td>NA</td><td>NA</td><td>NA</td><td>NA                                                                                                                                                                              </td></tr>\n",
       "</tbody>\n",
       "</table>\n"
      ],
      "text/latex": [
       "A tibble: 6 × 21\n",
       "\\begin{tabular}{lllllllllllllllllllll}\n",
       " URL & Name/Alias & Appearances & Current? & Gender & Probationary Introl & Full/Reserve Avengers Intro & Year & Years since joining & Honorary & ⋯ & Return1 & Death2 & Return2 & Death3 & Return3 & Death4 & Return4 & Death5 & Return5 & Notes\\\\\n",
       " <chr> & <chr> & <dbl> & <chr> & <chr> & <chr> & <chr> & <dbl> & <dbl> & <chr> & ⋯ & <chr> & <chr> & <chr> & <chr> & <chr> & <chr> & <chr> & <chr> & <chr> & <chr>\\\\\n",
       "\\hline\n",
       "\t http://marvel.wikia.com/Henry\\_Pym\\_(Earth-616)           & Henry Jonathan \"Hank\" Pym   & 1269 & YES & MALE   & NA & Sep-63 & 1963 & 52 & Full     & ⋯ & NO  & NA  & NA & NA & NA & NA & NA & NA & NA & Merged with Ultron in Rage of Ultron Vol. 1. A funeral was held.                                                                                                                \\\\\n",
       "\t http://marvel.wikia.com/Janet\\_van\\_Dyne\\_(Earth-616)      & Janet van Dyne              & 1165 & YES & FEMALE & NA & Sep-63 & 1963 & 52 & Full     & ⋯ & YES & NA  & NA & NA & NA & NA & NA & NA & NA & Dies in Secret Invasion V1:I8. Actually was sent tto Microverse later recovered                                                                                                 \\\\\n",
       "\t http://marvel.wikia.com/Anthony\\_Stark\\_(Earth-616)       & Anthony Edward \"Tony\" Stark & 3068 & YES & MALE   & NA & Sep-63 & 1963 & 52 & Full     & ⋯ & YES & NA  & NA & NA & NA & NA & NA & NA & NA & Death: \"Later while under the influence of Immortus Stark committed a number of horrible acts and was killed.'  This set up young Tony. Franklin Richards later brought him back\\\\\n",
       "\t http://marvel.wikia.com/Robert\\_Bruce\\_Banner\\_(Earth-616) & Robert Bruce Banner         & 2089 & YES & MALE   & NA & Sep-63 & 1963 & 52 & Full     & ⋯ & YES & NA  & NA & NA & NA & NA & NA & NA & NA & Dies in Ghosts of the Future arc. However \"he had actually used a hidden Pantheon base to survive\"                                                                              \\\\\n",
       "\t http://marvel.wikia.com/Thor\\_Odinson\\_(Earth-616)        & Thor Odinson                & 2402 & YES & MALE   & NA & Sep-63 & 1963 & 52 & Full     & ⋯ & YES & YES & NO & NA & NA & NA & NA & NA & NA & Dies in Fear Itself brought back because that's kind of the whole point. Second death in Time Runs Out has not yet returned                                                     \\\\\n",
       "\t http://marvel.wikia.com/Richard\\_Jones\\_(Earth-616)       & Richard Milhouse Jones      &  612 & YES & MALE   & NA & Sep-63 & 1963 & 52 & Honorary & ⋯ & NA  & NA  & NA & NA & NA & NA & NA & NA & NA & NA                                                                                                                                                                              \\\\\n",
       "\\end{tabular}\n"
      ],
      "text/markdown": [
       "\n",
       "A tibble: 6 × 21\n",
       "\n",
       "| URL &lt;chr&gt; | Name/Alias &lt;chr&gt; | Appearances &lt;dbl&gt; | Current? &lt;chr&gt; | Gender &lt;chr&gt; | Probationary Introl &lt;chr&gt; | Full/Reserve Avengers Intro &lt;chr&gt; | Year &lt;dbl&gt; | Years since joining &lt;dbl&gt; | Honorary &lt;chr&gt; | ⋯ ⋯ | Return1 &lt;chr&gt; | Death2 &lt;chr&gt; | Return2 &lt;chr&gt; | Death3 &lt;chr&gt; | Return3 &lt;chr&gt; | Death4 &lt;chr&gt; | Return4 &lt;chr&gt; | Death5 &lt;chr&gt; | Return5 &lt;chr&gt; | Notes &lt;chr&gt; |\n",
       "|---|---|---|---|---|---|---|---|---|---|---|---|---|---|---|---|---|---|---|---|---|\n",
       "| http://marvel.wikia.com/Henry_Pym_(Earth-616)           | Henry Jonathan \"Hank\" Pym   | 1269 | YES | MALE   | NA | Sep-63 | 1963 | 52 | Full     | ⋯ | NO  | NA  | NA | NA | NA | NA | NA | NA | NA | Merged with Ultron in Rage of Ultron Vol. 1. A funeral was held.                                                                                                                 |\n",
       "| http://marvel.wikia.com/Janet_van_Dyne_(Earth-616)      | Janet van Dyne              | 1165 | YES | FEMALE | NA | Sep-63 | 1963 | 52 | Full     | ⋯ | YES | NA  | NA | NA | NA | NA | NA | NA | NA | Dies in Secret Invasion V1:I8. Actually was sent tto Microverse later recovered                                                                                                  |\n",
       "| http://marvel.wikia.com/Anthony_Stark_(Earth-616)       | Anthony Edward \"Tony\" Stark | 3068 | YES | MALE   | NA | Sep-63 | 1963 | 52 | Full     | ⋯ | YES | NA  | NA | NA | NA | NA | NA | NA | NA | Death: \"Later while under the influence of Immortus Stark committed a number of horrible acts and was killed.'  This set up young Tony. Franklin Richards later brought him back |\n",
       "| http://marvel.wikia.com/Robert_Bruce_Banner_(Earth-616) | Robert Bruce Banner         | 2089 | YES | MALE   | NA | Sep-63 | 1963 | 52 | Full     | ⋯ | YES | NA  | NA | NA | NA | NA | NA | NA | NA | Dies in Ghosts of the Future arc. However \"he had actually used a hidden Pantheon base to survive\"                                                                               |\n",
       "| http://marvel.wikia.com/Thor_Odinson_(Earth-616)        | Thor Odinson                | 2402 | YES | MALE   | NA | Sep-63 | 1963 | 52 | Full     | ⋯ | YES | YES | NO | NA | NA | NA | NA | NA | NA | Dies in Fear Itself brought back because that's kind of the whole point. Second death in Time Runs Out has not yet returned                                                      |\n",
       "| http://marvel.wikia.com/Richard_Jones_(Earth-616)       | Richard Milhouse Jones      |  612 | YES | MALE   | NA | Sep-63 | 1963 | 52 | Honorary | ⋯ | NA  | NA  | NA | NA | NA | NA | NA | NA | NA | NA                                                                                                                                                                               |\n",
       "\n"
      ],
      "text/plain": [
       "  URL                                                    \n",
       "1 http://marvel.wikia.com/Henry_Pym_(Earth-616)          \n",
       "2 http://marvel.wikia.com/Janet_van_Dyne_(Earth-616)     \n",
       "3 http://marvel.wikia.com/Anthony_Stark_(Earth-616)      \n",
       "4 http://marvel.wikia.com/Robert_Bruce_Banner_(Earth-616)\n",
       "5 http://marvel.wikia.com/Thor_Odinson_(Earth-616)       \n",
       "6 http://marvel.wikia.com/Richard_Jones_(Earth-616)      \n",
       "  Name/Alias                  Appearances Current? Gender Probationary Introl\n",
       "1 Henry Jonathan \"Hank\" Pym   1269        YES      MALE   NA                 \n",
       "2 Janet van Dyne              1165        YES      FEMALE NA                 \n",
       "3 Anthony Edward \"Tony\" Stark 3068        YES      MALE   NA                 \n",
       "4 Robert Bruce Banner         2089        YES      MALE   NA                 \n",
       "5 Thor Odinson                2402        YES      MALE   NA                 \n",
       "6 Richard Milhouse Jones       612        YES      MALE   NA                 \n",
       "  Full/Reserve Avengers Intro Year Years since joining Honorary ⋯ Return1\n",
       "1 Sep-63                      1963 52                  Full     ⋯ NO     \n",
       "2 Sep-63                      1963 52                  Full     ⋯ YES    \n",
       "3 Sep-63                      1963 52                  Full     ⋯ YES    \n",
       "4 Sep-63                      1963 52                  Full     ⋯ YES    \n",
       "5 Sep-63                      1963 52                  Full     ⋯ YES    \n",
       "6 Sep-63                      1963 52                  Honorary ⋯ NA     \n",
       "  Death2 Return2 Death3 Return3 Death4 Return4 Death5 Return5\n",
       "1 NA     NA      NA     NA      NA     NA      NA     NA     \n",
       "2 NA     NA      NA     NA      NA     NA      NA     NA     \n",
       "3 NA     NA      NA     NA      NA     NA      NA     NA     \n",
       "4 NA     NA      NA     NA      NA     NA      NA     NA     \n",
       "5 YES    NO      NA     NA      NA     NA      NA     NA     \n",
       "6 NA     NA      NA     NA      NA     NA      NA     NA     \n",
       "  Notes                                                                                                                                                                           \n",
       "1 Merged with Ultron in Rage of Ultron Vol. 1. A funeral was held.                                                                                                                \n",
       "2 Dies in Secret Invasion V1:I8. Actually was sent tto Microverse later recovered                                                                                                 \n",
       "3 Death: \"Later while under the influence of Immortus Stark committed a number of horrible acts and was killed.'  This set up young Tony. Franklin Richards later brought him back\n",
       "4 Dies in Ghosts of the Future arc. However \"he had actually used a hidden Pantheon base to survive\"                                                                              \n",
       "5 Dies in Fear Itself brought back because that's kind of the whole point. Second death in Time Runs Out has not yet returned                                                     \n",
       "6 NA                                                                                                                                                                              "
      ]
     },
     "metadata": {},
     "output_type": "display_data"
    }
   ],
   "source": [
    "\n",
    "df_avengers = read_csv(\n",
    "    '../data/avengers.csv',\n",
    "    col_types = cols()\n",
    "#     na = c(\"\", \"None\")\n",
    ")\n",
    "spec(df_avengers)\n",
    "head(df_avengers)"
   ]
  },
  {
   "cell_type": "code",
   "execution_count": null,
   "metadata": {},
   "outputs": [],
   "source": []
  },
  {
   "cell_type": "markdown",
   "metadata": {},
   "source": [
    "Make an ECDF plot 📊 of `Appearances`."
   ]
  },
  {
   "cell_type": "markdown",
   "metadata": {},
   "source": [
    "(❗️Hint: combine `arrange`, `mutate` and `row_number`/`rank` to produce a new column to encode with y-position.)"
   ]
  },
  {
   "cell_type": "code",
   "execution_count": null,
   "metadata": {},
   "outputs": [],
   "source": []
  }
 ],
 "metadata": {
  "kernelspec": {
   "display_name": "R",
   "language": "R",
   "name": "ir"
  },
  "language_info": {
   "codemirror_mode": "r",
   "file_extension": ".r",
   "mimetype": "text/x-r-source",
   "name": "R",
   "pygments_lexer": "r",
   "version": "4.0.5"
  }
 },
 "nbformat": 4,
 "nbformat_minor": 4
}
