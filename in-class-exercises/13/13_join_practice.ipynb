{
 "cells": [
  {
   "cell_type": "markdown",
   "metadata": {},
   "source": [
    "Using the `nycflights13` package/data, which three airlines performed the most flights in 2013.\n",
    "\n",
    "Hints:  \n",
    "- The `airlines` table provides the name of each airline\n",
    "- Each row in the `flights` table represents one flight\n",
    "- Use `group_by`, `summarize`,  and `arrange` "
   ]
  },
  {
   "cell_type": "code",
   "execution_count": 1,
   "metadata": {},
   "outputs": [
    {
     "name": "stderr",
     "output_type": "stream",
     "text": [
      "── \u001b[1mAttaching packages\u001b[22m ─────────────────────────────────────── tidyverse 1.3.1 ──\n",
      "\n",
      "\u001b[32m✔\u001b[39m \u001b[34mggplot2\u001b[39m 3.3.5     \u001b[32m✔\u001b[39m \u001b[34mpurrr  \u001b[39m 0.3.4\n",
      "\u001b[32m✔\u001b[39m \u001b[34mtibble \u001b[39m 3.1.5     \u001b[32m✔\u001b[39m \u001b[34mdplyr  \u001b[39m 1.0.7\n",
      "\u001b[32m✔\u001b[39m \u001b[34mtidyr  \u001b[39m 1.1.4     \u001b[32m✔\u001b[39m \u001b[34mstringr\u001b[39m 1.4.0\n",
      "\u001b[32m✔\u001b[39m \u001b[34mreadr  \u001b[39m 2.0.2     \u001b[32m✔\u001b[39m \u001b[34mforcats\u001b[39m 0.5.1\n",
      "\n",
      "── \u001b[1mConflicts\u001b[22m ────────────────────────────────────────── tidyverse_conflicts() ──\n",
      "\u001b[31m✖\u001b[39m \u001b[34mdplyr\u001b[39m::\u001b[32mfilter()\u001b[39m masks \u001b[34mstats\u001b[39m::filter()\n",
      "\u001b[31m✖\u001b[39m \u001b[34mdplyr\u001b[39m::\u001b[32mlag()\u001b[39m    masks \u001b[34mstats\u001b[39m::lag()\n",
      "\n"
     ]
    },
    {
     "data": {
      "text/html": [
       "<table class=\"dataframe\">\n",
       "<caption>A tibble: 3 × 3</caption>\n",
       "<thead>\n",
       "\t<tr><th scope=col>carrier</th><th scope=col>n</th><th scope=col>name</th></tr>\n",
       "\t<tr><th scope=col>&lt;chr&gt;</th><th scope=col>&lt;int&gt;</th><th scope=col>&lt;chr&gt;</th></tr>\n",
       "</thead>\n",
       "<tbody>\n",
       "\t<tr><td>UA</td><td>58665</td><td>United Air Lines Inc.   </td></tr>\n",
       "\t<tr><td>B6</td><td>54635</td><td>JetBlue Airways         </td></tr>\n",
       "\t<tr><td>EV</td><td>54173</td><td>ExpressJet Airlines Inc.</td></tr>\n",
       "</tbody>\n",
       "</table>\n"
      ],
      "text/latex": [
       "A tibble: 3 × 3\n",
       "\\begin{tabular}{lll}\n",
       " carrier & n & name\\\\\n",
       " <chr> & <int> & <chr>\\\\\n",
       "\\hline\n",
       "\t UA & 58665 & United Air Lines Inc.   \\\\\n",
       "\t B6 & 54635 & JetBlue Airways         \\\\\n",
       "\t EV & 54173 & ExpressJet Airlines Inc.\\\\\n",
       "\\end{tabular}\n"
      ],
      "text/markdown": [
       "\n",
       "A tibble: 3 × 3\n",
       "\n",
       "| carrier &lt;chr&gt; | n &lt;int&gt; | name &lt;chr&gt; |\n",
       "|---|---|---|\n",
       "| UA | 58665 | United Air Lines Inc.    |\n",
       "| B6 | 54635 | JetBlue Airways          |\n",
       "| EV | 54173 | ExpressJet Airlines Inc. |\n",
       "\n"
      ],
      "text/plain": [
       "  carrier n     name                    \n",
       "1 UA      58665 United Air Lines Inc.   \n",
       "2 B6      54635 JetBlue Airways         \n",
       "3 EV      54173 ExpressJet Airlines Inc."
      ]
     },
     "metadata": {},
     "output_type": "display_data"
    }
   ],
   "source": [
    "library('tidyverse')\n",
    "library('nycflights13')\n",
    "\n",
    "flights %>% \n",
    "    group_by(carrier) %>%\n",
    "    count() %>%\n",
    "    ungroup() %>%\n",
    "    slice_max(n, n = 3) %>%\n",
    "    left_join(airlines, by = 'carrier')"
   ]
  },
  {
   "cell_type": "markdown",
   "metadata": {},
   "source": [
    "Re-create the following figure:\n",
    "\n",
    "(*Hint: use* `forcats` *to lump and reorder by number of flights*)"
   ]
  },
  {
   "cell_type": "markdown",
   "metadata": {},
   "source": [
    "<img src=\"figs/flights_bar.png\" style=\"width: 600px;\"/>"
   ]
  },
  {
   "cell_type": "code",
   "execution_count": 30,
   "metadata": {},
   "outputs": [
    {
     "data": {
      "image/png": "[encoded data removed]",
      "text/plain": [
       "plot without title"
      ]
     },
     "metadata": {
      "image/png": {
       "height": 420,
       "width": 420
      }
     },
     "output_type": "display_data"
    }
   ],
   "source": [
    "df_joined = airlines %>% \n",
    "    left_join(flights, by = 'carrier') %>%\n",
    "    # group_by(name) %>%\n",
    "    mutate(ordered = name %>% fct_infreq %>% fct_lump(n=10) %>% fct_rev)\n",
    "\n",
    "p = ggplot(df_joined, aes(y = ordered))\n",
    "\n",
    "p = p + geom_bar()\n",
    "\n",
    "p"
   ]
  }
 ],
 "metadata": {
  "kernelspec": {
   "display_name": "R",
   "language": "R",
   "name": "ir"
  },
  "language_info": {
   "codemirror_mode": "r",
   "file_extension": ".r",
   "mimetype": "text/x-r-source",
   "name": "R",
   "pygments_lexer": "r",
   "version": "4.1.2"
  }
 },
 "nbformat": 4,
 "nbformat_minor": 4
}
